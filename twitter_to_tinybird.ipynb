{
 "cells": [
  {
   "cell_type": "markdown",
   "metadata": {
    "id": "Pv17vxDEUCTy"
   },
   "source": [
    "# Streaming from Twitter to a Tinybird Data Source\n",
    "\n",
    "Filter tweets using a list of tracking words. Stream the tweets to a Tinybird Data Source."
   ]
  },
  {
   "cell_type": "code",
   "execution_count": 3,
   "metadata": {
    "id": "Us32auCn9RoZ"
   },
   "outputs": [],
   "source": [
    "import logging\n",
    "logging.getLogger().setLevel(logging.WARNING)\n",
    "\n",
    "import json\n",
    "import time\n",
    "import tweepy\n",
    "\n",
    "from tb.datasource import Datasource\n",
    "from email.utils import parsedate_to_datetime"
   ]
  },
  {
   "cell_type": "markdown",
   "metadata": {
    "id": "4u8ExaCZWyVe"
   },
   "source": [
    "Get the access codes you need from your app on [Twitter's Developer Platform](https://developer.twitter.com) and the token from the [Tinybird](https://ui.tinybird.co/login) workspace where you want to put the Data Source of tweets."
   ]
  },
  {
   "cell_type": "code",
   "execution_count": 4,
   "metadata": {
    "id": "34QTFTfGP3ba"
   },
   "outputs": [],
   "source": [
    "TWITTER_API_KEY = ''\n",
    "TWITTER_API_KEY_SECRET = ''\n",
    "TWITTER_ACCESS_TOKEN = ''\n",
    "TWITTER_ACCESS_TOKEN_SECRET = ''\n",
    "TB_TOKEN = ''"
   ]
  },
  {
   "cell_type": "markdown",
   "metadata": {
    "id": "6jtYDSagZ0Sl"
   },
   "source": [
    "Set up your variables, including the words to look for in tweets. We use [tweepy.Stream](https://docs.tweepy.org/en/stable/stream.html?highlight=.Stream) to filter realtime tweets on the list of keywords."
   ]
  },
  {
   "cell_type": "code",
   "execution_count": 3,
   "metadata": {
    "id": "tR6I1kye9UgV"
   },
   "outputs": [],
   "source": [
    "TB_HOST = 'https://api.tinybird.co'\n",
    "datasource = 'tweets'\n",
    "search_label = 'MAD'\n",
    "track = ['Madrid', 'madrid', 'Spain', 'spain', 'España', 'españa', 'Espana', 'espana']\n",
    "time_limit = 60*60    # seconds to run stream"
   ]
  },
  {
   "cell_type": "markdown",
   "metadata": {
    "id": "sLRVTwlPJVqN"
   },
   "source": [
    "Send chunks of data to Tinybird"
   ]
  },
  {
   "cell_type": "code",
   "execution_count": 4,
   "metadata": {
    "id": "nsR5_gxk0CtF"
   },
   "outputs": [],
   "source": [
    "class TwitterToTinybird(tweepy.Stream):\n",
    "    def __init__(self, auth, datasource, token, api_url, search_label, **kwargs):\n",
    "        super().__init__(*auth, **kwargs)\n",
    "        self.datasource = Datasource(datasource, token, api_url=api_url)\n",
    "        self.search_label = search_label\n",
    "        self.start_time = time.monotonic()\n",
    "        self.limit = kwargs.get('time_limit', 60)\n",
    "\n",
    "    def on_data(self, raw_tweet):\n",
    "        if (time.monotonic() - self.start_time) > self.limit:\n",
    "            print('Finished time period')\n",
    "            self.disconnect()\n",
    "            return False\n",
    "        tweet = json.loads(raw_tweet)\n",
    "        if 'created_at' not in tweet or 'id' not in tweet or 'text' not in tweet:\n",
    "          return\n",
    "        date = str(tweet['created_at'])\n",
    "\n",
    "        text = ''\n",
    "        try:\n",
    "          if tweet['truncated']:\n",
    "              text = tweet['extended_tweet']['full_text']\n",
    "          else:\n",
    "              text = tweet['text']\n",
    "        except Exception as e:\n",
    "          print(e)\n",
    "\n",
    "        try:\n",
    "          if tweet.get('retweeted_status'):\n",
    "              if tweet.get('retweeted_status')['truncated']:\n",
    "                  text += tweet['retweeted_status'].get('extended_tweet', {})['full_text']\n",
    "              else:\n",
    "                  text += tweet['retweeted_status'].get('text')\n",
    "        except Exception as e:\n",
    "          print(e)\n",
    "\n",
    "        try:\n",
    "          if tweet.get('quoted_status'):\n",
    "              q = tweet.get('quoted_status')\n",
    "              if q['truncated']:\n",
    "                  text += q.get('extended_tweet', {})['full_text']\n",
    "              else:\n",
    "                  text += q.get('text')\n",
    "        except Exception as e:\n",
    "          print(e)\n",
    "\n",
    "        tw = {\n",
    "          \"search_label\": self.search_label,\n",
    "          \"tweet\": text,\n",
    "          \"date\": parsedate_to_datetime(date).strftime(\"%Y-%m-%d %H:%M:%S\")\n",
    "        }\n",
    "        self.datasource << tw"
   ]
  },
  {
   "cell_type": "markdown",
   "metadata": {
    "id": "ei8NOWq5LM7k"
   },
   "source": [
    "Listen for your tweets"
   ]
  },
  {
   "cell_type": "code",
   "execution_count": 5,
   "metadata": {
    "id": "m9gAvgrvDARz"
   },
   "outputs": [],
   "source": [
    "def connect():\n",
    "  try:\n",
    "    tt = TwitterToTinybird(\n",
    "        [\n",
    "            TWITTER_API_KEY,\n",
    "            TWITTER_API_KEY_SECRET,\n",
    "            TWITTER_ACCESS_TOKEN,\n",
    "            TWITTER_ACCESS_TOKEN_SECRET\n",
    "        ],\n",
    "        datasource,\n",
    "        TB_TOKEN,\n",
    "        TB_HOST,\n",
    "        search_label,\n",
    "        daemon=True,\n",
    "        chunk_size=1024*10\n",
    "    )\n",
    "    tt.filter(track=track, threaded=True)\n",
    "    return tt\n",
    "  except Exception as e:\n",
    "      print(e)"
   ]
  },
  {
   "cell_type": "code",
   "execution_count": 6,
   "metadata": {
    "colab": {
     "base_uri": "https://localhost:8080/"
    },
    "id": "Utql15WcDGGV",
    "outputId": "37d778b3-c56b-47bf-fda7-acf9cf3c9829"
   },
   "outputs": [
    {
     "name": "stdout",
     "output_type": "stream",
     "text": [
      "connect\n"
     ]
    },
    {
     "name": "stderr",
     "output_type": "stream",
     "text": [
      "INFO:tweepy.streaming:Stream connected\n",
      "INFO:root:Flushing 5 records and 29.6 K bytes to tweets\n",
      "INFO:root:Waiting while flushing...\n",
      "INFO:root:Flushing 5 records and 39.0 K bytes to tweets\n",
      "INFO:root:Waiting while flushing...\n",
      "INFO:root:Flushing 12 records and 78.1 K bytes to tweets\n",
      "INFO:root:Waiting while flushing...\n",
      "INFO:root:Flushing 7 records and 38.0 K bytes to tweets\n",
      "INFO:root:Flushing 6 records and 32.5 K bytes to tweets\n",
      "INFO:root:Flushing 14 records and 99.2 K bytes to tweets\n",
      "INFO:root:Flushing 6 records and 33.8 K bytes to tweets\n",
      "INFO:root:Waiting while flushing...\n",
      "INFO:root:Flushing 9 records and 69.1 K bytes to tweets\n",
      "INFO:root:Waiting while flushing...\n",
      "INFO:root:Flushing 5 records and 39.3 K bytes to tweets\n",
      "INFO:root:Flushing 10 records and 73.4 K bytes to tweets\n",
      "INFO:root:Waiting while flushing...\n",
      "INFO:root:Flushing 4 records and 26.9 K bytes to tweets\n",
      "INFO:root:Waiting while flushing...\n",
      "INFO:root:Flushing 6 records and 26.5 K bytes to tweets\n",
      "INFO:root:Flushing 8 records and 60.9 K bytes to tweets\n",
      "INFO:root:Flushing 11 records and 85.5 K bytes to tweets\n",
      "INFO:root:Flushing 3 records and 22.0 K bytes to tweets\n",
      "INFO:root:Flushing 9 records and 65.2 K bytes to tweets\n",
      "INFO:root:Waiting while flushing...\n",
      "INFO:root:Flushing 4 records and 28.1 K bytes to tweets\n",
      "INFO:root:Flushing 10 records and 59.4 K bytes to tweets\n",
      "INFO:root:Flushing 9 records and 45.9 K bytes to tweets\n",
      "INFO:root:Flushing 4 records and 19.7 K bytes to tweets\n",
      "INFO:root:Waiting while flushing...\n",
      "INFO:root:Flushing 7 records and 55.1 K bytes to tweets\n",
      "INFO:root:Flushing 7 records and 46.1 K bytes to tweets\n",
      "INFO:root:Flushing 7 records and 47.0 K bytes to tweets\n",
      "INFO:root:Flushing 7 records and 41.4 K bytes to tweets\n",
      "INFO:root:Waiting while flushing...\n",
      "INFO:root:Flushing 4 records and 19.2 K bytes to tweets\n",
      "INFO:root:Flushing 8 records and 47.8 K bytes to tweets\n",
      "INFO:root:Flushing 4 records and 37.8 K bytes to tweets\n",
      "INFO:root:Flushing 8 records and 40.3 K bytes to tweets\n",
      "INFO:root:Flushing 9 records and 63.6 K bytes to tweets\n",
      "INFO:root:Flushing 6 records and 34.6 K bytes to tweets\n",
      "INFO:root:Flushing 5 records and 36.5 K bytes to tweets\n",
      "INFO:root:Flushing 10 records and 53.3 K bytes to tweets\n",
      "INFO:root:Flushing 12 records and 85.6 K bytes to tweets\n",
      "INFO:root:Waiting while flushing...\n",
      "INFO:root:Flushing 7 records and 73.4 K bytes to tweets\n",
      "INFO:root:Flushing 13 records and 76.0 K bytes to tweets\n",
      "INFO:root:Waiting while flushing...\n",
      "INFO:root:Flushing 15 records and 85.8 K bytes to tweets\n",
      "INFO:root:Waiting while flushing...\n",
      "INFO:root:Flushing 9 records and 62.5 K bytes to tweets\n",
      "INFO:root:Waiting while flushing...\n",
      "INFO:root:Flushing 9 records and 58.0 K bytes to tweets\n",
      "INFO:root:Flushing 4 records and 29.5 K bytes to tweets\n",
      "INFO:root:Waiting while flushing...\n",
      "INFO:root:Flushing 8 records and 59.0 K bytes to tweets\n",
      "INFO:root:Flushing 6 records and 55.6 K bytes to tweets\n",
      "INFO:root:Waiting while flushing...\n",
      "INFO:root:Flushing 5 records and 33.7 K bytes to tweets\n",
      "INFO:root:Waiting while flushing...\n",
      "INFO:root:Flushing 9 records and 51.7 K bytes to tweets\n",
      "INFO:root:Flushing 12 records and 75.1 K bytes to tweets\n",
      "INFO:root:Flushing 6 records and 47.6 K bytes to tweets\n",
      "INFO:root:Waiting while flushing...\n",
      "INFO:root:Flushing 12 records and 62.7 K bytes to tweets\n",
      "INFO:root:Flushing 9 records and 65.9 K bytes to tweets\n",
      "INFO:root:Flushing 9 records and 59.2 K bytes to tweets\n"
     ]
    },
    {
     "name": "stdout",
     "output_type": "stream",
     "text": [
      "Finished time period\n"
     ]
    },
    {
     "name": "stderr",
     "output_type": "stream",
     "text": [
      "INFO:root:Flushing 1 records and 8.9 K bytes to tweets\n"
     ]
    },
    {
     "name": "stdout",
     "output_type": "stream",
     "text": [
      "Finished time period\n",
      "Finished time period\n",
      "Finished time period\n",
      "Finished time period\n",
      "Finished time period\n",
      "Finished time period\n",
      "Finished time period\n",
      "Finished time period\n",
      "Finished time period\n",
      "Finished time period\n",
      "Finished time period\n",
      "Finished time period\n",
      "Finished time period\n",
      "Finished time period\n",
      "Finished time period\n",
      "Finished time period\n",
      "Finished time period\n",
      "Finished time period\n",
      "Finished time period\n"
     ]
    }
   ],
   "source": [
    "print('connect')\n",
    "stream = connect()"
   ]
  },
  {
   "cell_type": "code",
   "execution_count": 7,
   "metadata": {
    "id": "Y9Zo33-lpHMt"
   },
   "outputs": [
    {
     "name": "stdout",
     "output_type": "stream",
     "text": [
      "Finished time period\n"
     ]
    },
    {
     "name": "stderr",
     "output_type": "stream",
     "text": [
      "ERROR:tweepy.streaming:Stream connection closed by Twitter\n",
      "INFO:tweepy.streaming:Stream disconnected\n"
     ]
    },
    {
     "name": "stdout",
     "output_type": "stream",
     "text": [
      "Finished time period\n"
     ]
    }
   ],
   "source": [
    "stream.disconnect()"
   ]
  }
 ],
 "metadata": {
  "colab": {
   "collapsed_sections": [],
   "name": "twitter_to_tinybird.ipynb",
   "provenance": []
  },
  "kernelspec": {
   "display_name": "Python 3 (ipykernel)",
   "language": "python",
   "name": "python3"
  },
  "language_info": {
   "codemirror_mode": {
    "name": "ipython",
    "version": 3
   },
   "file_extension": ".py",
   "mimetype": "text/x-python",
   "name": "python",
   "nbconvert_exporter": "python",
   "pygments_lexer": "ipython3",
   "version": "3.8.8"
  }
 },
 "nbformat": 4,
 "nbformat_minor": 1
}
