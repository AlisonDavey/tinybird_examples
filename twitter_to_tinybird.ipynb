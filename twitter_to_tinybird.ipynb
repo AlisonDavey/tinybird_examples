{
  "nbformat": 4,
  "nbformat_minor": 0,
  "metadata": {
    "colab": {
      "name": "twitter_to_tinybird.ipynb",
      "provenance": [],
      "collapsed_sections": []
    },
    "kernelspec": {
      "name": "python3",
      "display_name": "Python 3"
    },
    "language_info": {
      "name": "python"
    }
  },
  "cells": [
    {
      "cell_type": "markdown",
      "source": [
        "#Streaming from Twitter to a Tinybird Data Source\n",
        "\n",
        "Filter tweets using a list of tracking words. Stream the tweets to a Tinybird Data Source.\n",
        "\n"
      ],
      "metadata": {
        "id": "Pv17vxDEUCTy"
      }
    },
    {
      "cell_type": "code",
      "source": [
        "import tweepy\n",
        "import time\n",
        "from threading import Timer\n",
        "import requests\n",
        "import json\n",
        "import sys\n",
        "\n",
        "from io import StringIO\n",
        "from requests.adapters import HTTPAdapter\n",
        "from urllib3.util.retry import Retry\n",
        "from email.utils import parsedate_to_datetime"
      ],
      "metadata": {
        "id": "Us32auCn9RoZ"
      },
      "execution_count": 1,
      "outputs": []
    },
    {
      "cell_type": "markdown",
      "source": [
        "Get the access codes you need from your app on [Twitter's Developer Platform](https://developer.twitter.com) and the token from the [Tinybird](https://ui.tinybird.co/login) workspace where you want to put the Data Source of tweets."
      ],
      "metadata": {
        "id": "4u8ExaCZWyVe"
      }
    },
    {
      "cell_type": "code",
      "source": [
        "TWITTER_API_KEY = ''\n",
        "TWITTER_API_KEY_SECRET = ''\n",
        "TWITTER_ACCESS_TOKEN = ''\n",
        "TWITTER_ACCESS_TOKEN_SECRET = ''\n",
        "TB_TOKEN = ''"
      ],
      "metadata": {
        "id": "34QTFTfGP3ba"
      },
      "execution_count": 8,
      "outputs": []
    },
    {
      "cell_type": "markdown",
      "source": [
        "Set up your variables, including the words to look for in tweets. We use [tweepy.Stream](https://docs.tweepy.org/en/stable/stream.html?highlight=.Stream) to filter realtime tweets on the list of keywords."
      ],
      "metadata": {
        "id": "6jtYDSagZ0Sl"
      }
    },
    {
      "cell_type": "code",
      "source": [
        "TB_HOST = 'https://api.tinybird.co/v0'\n",
        "TB_API = 'events'\n",
        "mode = 'append'\n",
        "datasource = 'tweets'\n",
        "search_label = 'MAD'\n",
        "track = ['Madrid', 'madrid', 'Spain', 'spain', 'España', 'españa', 'Espana', 'espana']\n",
        "\n",
        "endpoint = TB_HOST+'/'+TB_API\n",
        "params = {\n",
        "        'mode': mode,\n",
        "        'name': datasource,\n",
        "        'token': TB_TOKEN\n",
        "        }\n",
        "\n",
        "auth = tweepy.OAuthHandler(TWITTER_API_KEY, TWITTER_API_KEY_SECRET)\n",
        "auth.set_access_token(TWITTER_ACCESS_TOKEN, TWITTER_ACCESS_TOKEN_SECRET)\n",
        "api = tweepy.API(auth, timeout=300)\n",
        "\n",
        "time_limit = 60*60    # seconds to run stream\n",
        "max_wait_seconds = 60 # time between sendings chunks to Tinybird\n",
        "max_wait_records = 10_000\n",
        "max_wait_bytes = 1024*1024"
      ],
      "metadata": {
        "id": "tR6I1kye9UgV"
      },
      "execution_count": 3,
      "outputs": []
    },
    {
      "cell_type": "markdown",
      "source": [
        "Send chunks of data to Tinybird"
      ],
      "metadata": {
        "id": "sLRVTwlPJVqN"
      }
    },
    {
      "cell_type": "code",
      "source": [
        "class TinybirdApiSink():\n",
        "    def __init__(self, params, endpoint=endpoint):\n",
        "        super().__init__()\n",
        "        self.params = params\n",
        "        self.url = endpoint\n",
        "        retry = Retry(total=5, backoff_factor=0.2)\n",
        "        adapter = HTTPAdapter(max_retries=retry)\n",
        "        self._session = requests.Session()\n",
        "        self._session.mount('http://', adapter)\n",
        "        self._session.mount('https://', adapter)\n",
        "        self.reset()\n",
        "        self.wait = False\n",
        "\n",
        "    def reset(self):\n",
        "        self.chunk = StringIO()\n",
        "\n",
        "    def append(self, value):\n",
        "        try:\n",
        "            self.chunk.write(json.dumps(value) + '\\n')\n",
        "        except Exception as e:\n",
        "            print(e)\n",
        "\n",
        "    def tell(self):\n",
        "        return self.chunk.tell()\n",
        "\n",
        "    def flush(self):\n",
        "        self.wait = True\n",
        "        data = self.chunk.getvalue()\n",
        "        self.reset()\n",
        "\n",
        "        ok = False\n",
        "        try:\n",
        "            response = self._session.post(self.url, \n",
        "                                params = self.params, \n",
        "                                files = dict(ndjson=data[:-1])\n",
        "                                )\n",
        "            print('flush response', response.status_code, response.text)\n",
        "            ok = response.status_code < 400\n",
        "            self.wait = False\n",
        "            return ok\n",
        "        except Exception as e:\n",
        "            self.wait = False\n",
        "            print(e)\n",
        "            return ok"
      ],
      "metadata": {
        "id": "nsR5_gxk0CtF"
      },
      "execution_count": 4,
      "outputs": []
    },
    {
      "cell_type": "markdown",
      "source": [
        "Listen for your tweets"
      ],
      "metadata": {
        "id": "ei8NOWq5LM7k"
      }
    },
    {
      "cell_type": "code",
      "source": [
        "class MyStreamListener(tweepy.StreamListener):\n",
        "\n",
        "    def __init__(self, \n",
        "                 name, \n",
        "                 api, \n",
        "                 search_label, \n",
        "                 time_limit = 60, \n",
        "                 max_wait_seconds = 10,\n",
        "                 max_wait_records = 10_000,\n",
        "                 max_wait_bytes = 1024*1024):\n",
        "        self.start_time = time.monotonic()\n",
        "        self.limit = time_limit\n",
        "        self.saveFile = open('abcd.json', 'a')\n",
        "        self.name = name\n",
        "        self.records = 0\n",
        "        self.api = api\n",
        "        self.search_label = search_label\n",
        "        self.sink = TinybirdApiSink(params)\n",
        "        self.max_wait_seconds = max_wait_seconds\n",
        "        self.max_wait_records = max_wait_records\n",
        "        self.max_wait_bytes = max_wait_bytes\n",
        "        self.records = 0\n",
        "        self.timer = None\n",
        "        self.timer_start = None\n",
        "        self.tr_timer = None\n",
        "        self.tr_timer_start = None\n",
        "\n",
        "    def append(self, record):\n",
        "        self.sink.append(record)\n",
        "        self.records += 1\n",
        "        if self.records < self.max_wait_records and self.sink.tell() < self.max_wait_bytes:\n",
        "            if not self.timer:\n",
        "                self.timer_start = time.monotonic()\n",
        "                self.timer = Timer(self.max_wait_seconds, self.flush)\n",
        "                self.timer.start()\n",
        "        else:\n",
        "            self.flush()\n",
        "\n",
        "    def flush(self):\n",
        "        if self.timer:\n",
        "            self.timer.cancel()\n",
        "            self.timer = None\n",
        "            self.timer_start = None\n",
        "        if not self.records:\n",
        "            return\n",
        "        self.sink.flush()\n",
        "        self.records = 0\n",
        "\n",
        "    def on_data(self, raw_data):\n",
        "        if (time.monotonic() - self.start_time) > self.limit:\n",
        "          print('Finished time period')\n",
        "          return False\n",
        "        else:\n",
        "          super().on_data(raw_data)\n",
        "          tweet = json.loads(raw_data)\n",
        "          if 'created_at' not in tweet or 'id' not in tweet or 'text' not in tweet:\n",
        "            return\n",
        "          date = str(tweet['created_at'])\n",
        "\n",
        "          text = ''\n",
        "          try:\n",
        "            if tweet['truncated']:\n",
        "                text = tweet['extended_tweet']['full_text']\n",
        "            else:\n",
        "                text = tweet['text']\n",
        "          except Exception as e:\n",
        "            print(e)\n",
        "        \n",
        "          try:\n",
        "            if tweet.get('retweeted_status'):\n",
        "                if tweet.get('retweeted_status')['truncated']:\n",
        "                    text += tweet['retweeted_status'].get('extended_tweet', {})['full_text']\n",
        "                else:\n",
        "                    text += tweet['retweeted_status'].get('text')\n",
        "          except Exception as e:\n",
        "            print(e)\n",
        "        \n",
        "          try:\n",
        "            if tweet.get('quoted_status'):\n",
        "                q = tweet.get('quoted_status')\n",
        "                if q['truncated']:\n",
        "                    text += q.get('extended_tweet', {})['full_text']\n",
        "                else:\n",
        "                    text += q.get('text')\n",
        "          except Exception as e:\n",
        "            print(e)\n",
        "                \n",
        "          tw = {\n",
        "            \"search_label\": self.search_label,\n",
        "            \"tweet\": text,\n",
        "            \"date\": parsedate_to_datetime(date).strftime(\"%Y-%m-%d %H:%M:%S\")\n",
        "          }\n",
        "          self.append(tw)\n",
        "          return True\n",
        "        "
      ],
      "metadata": {
        "id": "q0y2E-J3dY9J"
      },
      "execution_count": 5,
      "outputs": []
    },
    {
      "cell_type": "code",
      "source": [
        "def connect():\n",
        "  try:\n",
        "      myStreamListener = MyStreamListener(datasource, \n",
        "                                          api, \n",
        "                                          search_label = search_label, \n",
        "                                          time_limit = time_limit, \n",
        "                                          max_wait_seconds = max_wait_seconds)\n",
        "      myStream = tweepy.Stream(auth = api.auth, \n",
        "                               listener = myStreamListener)\n",
        "      myStream.filter(track = track)\n",
        "  except Exception as e:\n",
        "      print(e)"
      ],
      "metadata": {
        "id": "m9gAvgrvDARz"
      },
      "execution_count": 6,
      "outputs": []
    },
    {
      "cell_type": "code",
      "source": [
        "print('connect'), connect()"
      ],
      "metadata": {
        "colab": {
          "base_uri": "https://localhost:8080/"
        },
        "id": "Utql15WcDGGV",
        "outputId": "37d778b3-c56b-47bf-fda7-acf9cf3c9829"
      },
      "execution_count": 7,
      "outputs": [
        {
          "output_type": "stream",
          "name": "stdout",
          "text": [
            "connect\n",
            "flush response 202 {\"successful_rows\":520,\"quarantined_rows\":4}\n",
            "flush response 202 {\"successful_rows\":464,\"quarantined_rows\":4}\n",
            "flush response 202 {\"successful_rows\":471,\"quarantined_rows\":4}\n",
            "flush response 202 {\"successful_rows\":498,\"quarantined_rows\":4}\n",
            "flush response 202 {\"successful_rows\":502,\"quarantined_rows\":4}\n",
            "flush response 202 {\"successful_rows\":545,\"quarantined_rows\":4}\n",
            "flush response 202 {\"successful_rows\":495,\"quarantined_rows\":4}\n",
            "flush response 202 {\"successful_rows\":472,\"quarantined_rows\":4}\n",
            "flush response 202 {\"successful_rows\":490,\"quarantined_rows\":4}\n",
            "flush response 202 {\"successful_rows\":483,\"quarantined_rows\":4}\n",
            "flush response 202 {\"successful_rows\":454,\"quarantined_rows\":4}\n",
            "flush response 202 {\"successful_rows\":457,\"quarantined_rows\":4}\n",
            "flush response 202 {\"successful_rows\":462,\"quarantined_rows\":4}\n",
            "flush response 202 {\"successful_rows\":484,\"quarantined_rows\":4}\n",
            "flush response 202 {\"successful_rows\":524,\"quarantined_rows\":4}\n",
            "flush response 202 {\"successful_rows\":483,\"quarantined_rows\":4}\n",
            "flush response 202 {\"successful_rows\":536,\"quarantined_rows\":4}\n",
            "flush response 202 {\"successful_rows\":508,\"quarantined_rows\":4}\n",
            "flush response 202 {\"successful_rows\":507,\"quarantined_rows\":4}\n",
            "flush response 202 {\"successful_rows\":491,\"quarantined_rows\":4}\n",
            "flush response 202 {\"successful_rows\":490,\"quarantined_rows\":4}\n",
            "flush response 202 {\"successful_rows\":484,\"quarantined_rows\":4}\n",
            "flush response 202 {\"successful_rows\":490,\"quarantined_rows\":4}\n",
            "flush response 202 {\"successful_rows\":505,\"quarantined_rows\":4}\n",
            "flush response 202 {\"successful_rows\":490,\"quarantined_rows\":4}\n",
            "flush response 202 {\"successful_rows\":501,\"quarantined_rows\":4}\n",
            "flush response 202 {\"successful_rows\":472,\"quarantined_rows\":4}\n",
            "flush response 202 {\"successful_rows\":475,\"quarantined_rows\":4}\n",
            "flush response 202 {\"successful_rows\":471,\"quarantined_rows\":4}\n",
            "flush response 202 {\"successful_rows\":490,\"quarantined_rows\":4}\n",
            "flush response 202 {\"successful_rows\":453,\"quarantined_rows\":4}\n",
            "flush response 202 {\"successful_rows\":508,\"quarantined_rows\":4}\n",
            "flush response 202 {\"successful_rows\":469,\"quarantined_rows\":4}\n",
            "flush response 202 {\"successful_rows\":544,\"quarantined_rows\":4}\n",
            "flush response 202 {\"successful_rows\":511,\"quarantined_rows\":4}\n",
            "flush response 202 {\"successful_rows\":506,\"quarantined_rows\":4}\n",
            "flush response 202 {\"successful_rows\":500,\"quarantined_rows\":4}\n",
            "flush response 202 {\"successful_rows\":504,\"quarantined_rows\":4}\n",
            "flush response 202 {\"successful_rows\":509,\"quarantined_rows\":4}\n",
            "flush response 202 {\"successful_rows\":467,\"quarantined_rows\":4}\n",
            "flush response 202 {\"successful_rows\":536,\"quarantined_rows\":4}\n",
            "flush response 202 {\"successful_rows\":515,\"quarantined_rows\":4}\n",
            "flush response 202 {\"successful_rows\":469,\"quarantined_rows\":4}\n",
            "flush response 202 {\"successful_rows\":637,\"quarantined_rows\":4}\n",
            "flush response 202 {\"successful_rows\":615,\"quarantined_rows\":4}\n",
            "flush response 202 {\"successful_rows\":687,\"quarantined_rows\":4}\n",
            "flush response 202 {\"successful_rows\":486,\"quarantined_rows\":4}\n",
            "flush response 202 {\"successful_rows\":472,\"quarantined_rows\":4}\n",
            "flush response 202 {\"successful_rows\":632,\"quarantined_rows\":4}\n",
            "flush response 202 {\"successful_rows\":547,\"quarantined_rows\":4}\n",
            "flush response 202 {\"successful_rows\":489,\"quarantined_rows\":4}\n",
            "flush response 202 {\"successful_rows\":406,\"quarantined_rows\":4}\n",
            "flush response 202 {\"successful_rows\":475,\"quarantined_rows\":4}\n",
            "flush response 202 {\"successful_rows\":452,\"quarantined_rows\":4}\n",
            "flush response 202 {\"successful_rows\":499,\"quarantined_rows\":4}\n",
            "flush response 202 {\"successful_rows\":437,\"quarantined_rows\":4}\n",
            "flush response 202 {\"successful_rows\":490,\"quarantined_rows\":4}\n",
            "flush response 202 {\"successful_rows\":550,\"quarantined_rows\":4}\n",
            "flush response 202 {\"successful_rows\":528,\"quarantined_rows\":4}\n",
            "Finished time period\n"
          ]
        },
        {
          "output_type": "execute_result",
          "data": {
            "text/plain": [
              "(None, None)"
            ]
          },
          "metadata": {},
          "execution_count": 7
        }
      ]
    },
    {
      "cell_type": "code",
      "source": [
        ""
      ],
      "metadata": {
        "id": "Y9Zo33-lpHMt"
      },
      "execution_count": 7,
      "outputs": []
    }
  ]
}