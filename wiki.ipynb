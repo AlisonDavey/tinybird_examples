{
  "nbformat": 4,
  "nbformat_minor": 0,
  "metadata": {
    "colab": {
      "name": "wiki.ipynb",
      "provenance": [],
      "collapsed_sections": [],
      "authorship_tag": "ABX9TyOSB4P7kbPjThazfDiHIn0E",
      "include_colab_link": true
    },
    "kernelspec": {
      "name": "python3",
      "display_name": "Python 3"
    },
    "language_info": {
      "name": "python"
    }
  },
  "cells": [
    {
      "cell_type": "markdown",
      "metadata": {
        "id": "view-in-github",
        "colab_type": "text"
      },
      "source": [
        "<a href=\"https://colab.research.google.com/github/AlisonDavey/tinybird_examples/blob/main/wiki.ipynb\" target=\"_parent\"><img src=\"https://colab.research.google.com/assets/colab-badge.svg\" alt=\"Open In Colab\"/></a>"
      ]
    },
    {
      "cell_type": "markdown",
      "source": [
        "# Stream data from a Jupyter Notebook\n",
        "\n",
        "### Using pandas DataFrames of recent changes to Wikipedia\n",
        "\n",
        "- create a Data Source from 15 minutes of data in `df_wiki`\n",
        "\n",
        "- append 5 minutes of data to the Data Source from `df_wiki_new`\n",
        "\n",
        "Based on\n",
        "https://wikitech.wikimedia.org/wiki/Event_Platform/EventStreams#When_not_to_use_EventStreams\n",
        "\n",
        "Options for ingesting data:\n",
        "\n",
        "1. Tinybird API\n",
        "2. Tinybird UI\n",
        "3. Tinybird CLI"
      ],
      "metadata": {
        "id": "Oxn_CfV3o_Tx"
      }
    },
    {
      "cell_type": "markdown",
      "metadata": {
        "id": "2wdw1SwIGcUH"
      },
      "source": [
        "## Create pandas DataFrames"
      ]
    },
    {
      "cell_type": "code",
      "metadata": {
        "colab": {
          "base_uri": "https://localhost:8080/"
        },
        "id": "81iYYghptAbV",
        "outputId": "e89ea3bc-c141-4552-c98b-dda7bbf59eda"
      },
      "source": [
        "!pip install sseclient\n",
        "!pip install fsspec\n",
        "!pip install ndjson"
      ],
      "execution_count": 1,
      "outputs": [
        {
          "output_type": "stream",
          "name": "stdout",
          "text": [
            "Collecting sseclient\n",
            "  Downloading sseclient-0.0.27.tar.gz (7.5 kB)\n",
            "Requirement already satisfied: requests>=2.9 in /usr/local/lib/python3.7/dist-packages (from sseclient) (2.23.0)\n",
            "Requirement already satisfied: six in /usr/local/lib/python3.7/dist-packages (from sseclient) (1.15.0)\n",
            "Requirement already satisfied: idna<3,>=2.5 in /usr/local/lib/python3.7/dist-packages (from requests>=2.9->sseclient) (2.10)\n",
            "Requirement already satisfied: certifi>=2017.4.17 in /usr/local/lib/python3.7/dist-packages (from requests>=2.9->sseclient) (2021.10.8)\n",
            "Requirement already satisfied: urllib3!=1.25.0,!=1.25.1,<1.26,>=1.21.1 in /usr/local/lib/python3.7/dist-packages (from requests>=2.9->sseclient) (1.24.3)\n",
            "Requirement already satisfied: chardet<4,>=3.0.2 in /usr/local/lib/python3.7/dist-packages (from requests>=2.9->sseclient) (3.0.4)\n",
            "Building wheels for collected packages: sseclient\n",
            "  Building wheel for sseclient (setup.py) ... \u001b[?25l\u001b[?25hdone\n",
            "  Created wheel for sseclient: filename=sseclient-0.0.27-py3-none-any.whl size=5584 sha256=fcdbe78486198398fea5d2677ffcfb007e1b9486fd9ab661036bd8cddb0e1eec\n",
            "  Stored in directory: /root/.cache/pip/wheels/07/67/7e/96edf627ac746de1a5c5cbb8d59ed960f033b8352dc12c545d\n",
            "Successfully built sseclient\n",
            "Installing collected packages: sseclient\n",
            "Successfully installed sseclient-0.0.27\n",
            "Collecting fsspec\n",
            "  Downloading fsspec-2022.1.0-py3-none-any.whl (133 kB)\n",
            "\u001b[K     |████████████████████████████████| 133 kB 5.9 MB/s \n",
            "\u001b[?25hInstalling collected packages: fsspec\n",
            "Successfully installed fsspec-2022.1.0\n",
            "Collecting ndjson\n",
            "  Downloading ndjson-0.3.1-py2.py3-none-any.whl (5.3 kB)\n",
            "Installing collected packages: ndjson\n",
            "Successfully installed ndjson-0.3.1\n"
          ]
        }
      ]
    },
    {
      "cell_type": "code",
      "metadata": {
        "id": "K8JBne3NspAs"
      },
      "source": [
        "import json\n",
        "import ndjson\n",
        "from sseclient import SSEClient as EventSource\n",
        "\n",
        "import fsspec\n",
        "import time\n",
        "from google.colab import files\n",
        "\n",
        "import pandas as pd"
      ],
      "execution_count": 2,
      "outputs": []
    },
    {
      "cell_type": "code",
      "metadata": {
        "id": "uEAPrc0kuJYb"
      },
      "source": [
        "def create_df_wiki(url='https://stream.wikimedia.org/v2/stream/recentchange', n=5):\n",
        "  df_wiki = pd.DataFrame()\n",
        "  t_end = time.time() + 60 * n\n",
        "  for event in EventSource(url):\n",
        "    if time.time() > t_end:\n",
        "      break\n",
        "    elif event.event == 'message':\n",
        "          try:\n",
        "              change = json.loads(event.data)\n",
        "          except ValueError:\n",
        "              pass\n",
        "          else:\n",
        "            if change['type']!='log':\n",
        "              df=pd.DataFrame.from_dict(change)\n",
        "              df_wiki=df_wiki.append(df[df.index=='domain'])\n",
        "  return df_wiki"
      ],
      "execution_count": 3,
      "outputs": []
    },
    {
      "cell_type": "markdown",
      "source": [
        "DataFrame of 15 minutes of data to create Data Source"
      ],
      "metadata": {
        "id": "3hW_BMBASTAr"
      }
    },
    {
      "cell_type": "code",
      "metadata": {
        "id": "Gj53VnIWBwEj"
      },
      "source": [
        "df_wiki = create_df_wiki(n=15)\n",
        "df_wiki.drop(columns=['$schema','length','revision'], inplace=True)"
      ],
      "execution_count": 4,
      "outputs": []
    },
    {
      "cell_type": "code",
      "source": [
        "df_wiki.info()"
      ],
      "metadata": {
        "colab": {
          "base_uri": "https://localhost:8080/"
        },
        "id": "oDdsJQ3VWnBM",
        "outputId": "39e5a874-f17f-43e2-9d86-63660fa12448"
      },
      "execution_count": 5,
      "outputs": [
        {
          "output_type": "stream",
          "name": "stdout",
          "text": [
            "<class 'pandas.core.frame.DataFrame'>\n",
            "Index: 22793 entries, domain to domain\n",
            "Data columns (total 16 columns):\n",
            " #   Column              Non-Null Count  Dtype \n",
            "---  ------              --------------  ----- \n",
            " 0   meta                22793 non-null  object\n",
            " 1   id                  22793 non-null  int64 \n",
            " 2   type                22793 non-null  object\n",
            " 3   namespace           22793 non-null  int64 \n",
            " 4   title               22793 non-null  object\n",
            " 5   comment             22793 non-null  object\n",
            " 6   timestamp           22793 non-null  int64 \n",
            " 7   user                22793 non-null  object\n",
            " 8   bot                 22793 non-null  bool  \n",
            " 9   server_url          22793 non-null  object\n",
            " 10  server_name         22793 non-null  object\n",
            " 11  server_script_path  22793 non-null  object\n",
            " 12  wiki                22793 non-null  object\n",
            " 13  parsedcomment       22793 non-null  object\n",
            " 14  minor               14531 non-null  object\n",
            " 15  patrolled           9545 non-null   object\n",
            "dtypes: bool(1), int64(3), object(12)\n",
            "memory usage: 2.8+ MB\n"
          ]
        }
      ]
    },
    {
      "cell_type": "markdown",
      "source": [
        "DataFrame of 5 minutes of data to append to Data Source"
      ],
      "metadata": {
        "id": "AXvIcnIMSWmQ"
      }
    },
    {
      "cell_type": "code",
      "source": [
        "df_wiki_new = create_df_wiki(n=5)\n",
        "df_wiki_new.drop(columns=['$schema','length','revision'], inplace=True)"
      ],
      "metadata": {
        "id": "JTCor3C7dJGV"
      },
      "execution_count": 6,
      "outputs": []
    },
    {
      "cell_type": "markdown",
      "source": [
        "## Option 1: Stream to Tinybird from the API"
      ],
      "metadata": {
        "id": "yzgtMC6oPTpQ"
      }
    },
    {
      "cell_type": "code",
      "source": [
        "import csv\n",
        "import requests\n",
        "\n",
        "from io import StringIO\n",
        "from requests.adapters import HTTPAdapter\n",
        "\n",
        "from urllib3.util.retry import Retry\n",
        "from urllib.parse import urlencode"
      ],
      "metadata": {
        "id": "4yECHGogfalg"
      },
      "execution_count": 7,
      "outputs": []
    },
    {
      "cell_type": "code",
      "source": [
        "token = '{TOKEN}'\n",
        "\n",
        "if token == '':\n",
        "   print(\"Get your token from your Tinybird workspace.\")"
      ],
      "metadata": {
        "id": "OGg5BpolfEsz"
      },
      "execution_count": 8,
      "outputs": []
    },
    {
      "cell_type": "code",
      "source": [
        "def ingest_from_array(rows,datasource, token, mode='append', endpoint='https://api.tinybird.co'):\n",
        "  url = f'{endpoint}/v0/datasources?mode={mode}&name={datasource}'\n",
        "\n",
        "  retry = Retry(total=5, backoff_factor=0.2)\n",
        "  adapter = HTTPAdapter(max_retries=retry)\n",
        "  _session = requests.Session()\n",
        "  _session.mount('http://', adapter)\n",
        "  _session.mount('https://', adapter)\n",
        "\n",
        "  csv_chunk = StringIO()\n",
        "  writer = csv.writer(csv_chunk, delimiter=',', quotechar='\"', quoting=csv.QUOTE_NONNUMERIC)\n",
        "\n",
        "  max_wait_records = 5000\n",
        "  max_wait_bytes = 32 * 1024 ** 2\n",
        "\n",
        "  records = 0\n",
        "  for row in rows:\n",
        "    writer.writerow(row)\n",
        "    records += 1\n",
        "\n",
        "    if (records > max_wait_records and csv_chunk.tell() > max_wait_bytes) or len(rows) == records:\n",
        "        data = csv_chunk.getvalue()\n",
        "        headers = {\n",
        "            'Authorization': f'Bearer {token}',\n",
        "            'X-TB-Client': 'pltx-0.1',\n",
        "        }\n",
        "\n",
        "        ok = False\n",
        "        try:\n",
        "            response = _session.post(url, headers=headers, files=dict(csv=data))\n",
        "            result = response.json()\n",
        "\n",
        "            ok = response.status_code < 400\n",
        "            if ok:\n",
        "                csv_chunk = StringIO()\n",
        "                writer = csv.writer(csv_chunk, delimiter=',', quotechar='\"', quoting=csv.QUOTE_NONNUMERIC)\n",
        "                print(f\"Flushed {len(data)} bytes, datasource={datasource}, response={response.status_code}\")\n",
        "                print(f\"Result id={result.get('import_id', None)}, error={result.get('error', False)}\")\n",
        "        except Exception as e:\n",
        "            print(e)\n",
        "\n",
        "  print('Done')"
      ],
      "metadata": {
        "id": "oxm5tadCfdgU"
      },
      "execution_count": 9,
      "outputs": []
    },
    {
      "cell_type": "markdown",
      "source": [
        "### Create Data Source and Ingest\n",
        "Column names read from local file, column data types interpreted from local file."
      ],
      "metadata": {
        "id": "Btw-ZzHChqu7"
      }
    },
    {
      "cell_type": "code",
      "source": [
        "datasource = 'wiki'\n",
        "endpoint = 'https://api.tinybird.co'\n",
        "\n",
        "mode = 'create'\n",
        "rows= df_wiki.values.tolist()\n",
        "rows.insert(0, df_wiki.columns.tolist())\n",
        "\n",
        "ingest_from_array(rows, datasource, token, mode, endpoint)"
      ],
      "metadata": {
        "colab": {
          "base_uri": "https://localhost:8080/"
        },
        "id": "dBySTMNUfuCl",
        "outputId": "c9cd5cba-43cc-4c88-a18b-e90c9c99e23a"
      },
      "execution_count": 10,
      "outputs": [
        {
          "output_type": "stream",
          "name": "stdout",
          "text": [
            "Flushed 10152580 bytes, datasource=wiki, response=200\n",
            "Result id=2e194aa0-f450-452a-8cc3-803d14604b9c, error=False\n",
            "Done\n"
          ]
        }
      ]
    },
    {
      "cell_type": "markdown",
      "source": [
        "### Append to Data Source"
      ],
      "metadata": {
        "id": "hshT0Wgph0dL"
      }
    },
    {
      "cell_type": "code",
      "source": [
        "mode = 'append'\n",
        "rows= df_wiki_new.values.tolist()\n",
        "rows.insert(0, df_wiki_new.columns.tolist())\n",
        "\n",
        "ingest_from_array(rows, datasource, token, mode, endpoint)"
      ],
      "metadata": {
        "colab": {
          "base_uri": "https://localhost:8080/"
        },
        "id": "iC_zVWgBhY0A",
        "outputId": "92ef94eb-720f-4835-8011-0211571bdf9f"
      },
      "execution_count": 11,
      "outputs": [
        {
          "output_type": "stream",
          "name": "stdout",
          "text": [
            "Flushed 3514165 bytes, datasource=wiki, response=200\n",
            "Result id=02264dbb-69ea-4261-8fe9-15a15413c35a, error=False\n",
            "Done\n"
          ]
        }
      ]
    },
    {
      "cell_type": "markdown",
      "source": [
        "## Option 2: Download to a local file then ingest to Tinybird through the UI, from:\n",
        "\n",
        "- CSV\n",
        "- NDJSON\n",
        "\n",
        "The column names and types can be changed in the preview in the UI, for example, the column `type` can be changed to `LowCardinality(String)`."
      ],
      "metadata": {
        "id": "LLdnpFE5VlDz"
      }
    },
    {
      "cell_type": "markdown",
      "source": [
        "### Format CSV"
      ],
      "metadata": {
        "id": "Oq3dO9HqisAH"
      }
    },
    {
      "cell_type": "code",
      "source": [
        "df_wiki.to_csv(\"wiki_ui_csv.csv\", index=False)\n",
        "files.download('wiki_ui_csv.csv')"
      ],
      "metadata": {
        "colab": {
          "base_uri": "https://localhost:8080/",
          "height": 17
        },
        "id": "MW8Rgq8jkJyM",
        "outputId": "77ea1a9a-24db-4080-ca79-5272b7eebde2"
      },
      "execution_count": 25,
      "outputs": [
        {
          "output_type": "display_data",
          "data": {
            "application/javascript": [
              "\n",
              "    async function download(id, filename, size) {\n",
              "      if (!google.colab.kernel.accessAllowed) {\n",
              "        return;\n",
              "      }\n",
              "      const div = document.createElement('div');\n",
              "      const label = document.createElement('label');\n",
              "      label.textContent = `Downloading \"${filename}\": `;\n",
              "      div.appendChild(label);\n",
              "      const progress = document.createElement('progress');\n",
              "      progress.max = size;\n",
              "      div.appendChild(progress);\n",
              "      document.body.appendChild(div);\n",
              "\n",
              "      const buffers = [];\n",
              "      let downloaded = 0;\n",
              "\n",
              "      const channel = await google.colab.kernel.comms.open(id);\n",
              "      // Send a message to notify the kernel that we're ready.\n",
              "      channel.send({})\n",
              "\n",
              "      for await (const message of channel.messages) {\n",
              "        // Send a message to notify the kernel that we're ready.\n",
              "        channel.send({})\n",
              "        if (message.buffers) {\n",
              "          for (const buffer of message.buffers) {\n",
              "            buffers.push(buffer);\n",
              "            downloaded += buffer.byteLength;\n",
              "            progress.value = downloaded;\n",
              "          }\n",
              "        }\n",
              "      }\n",
              "      const blob = new Blob(buffers, {type: 'application/binary'});\n",
              "      const a = document.createElement('a');\n",
              "      a.href = window.URL.createObjectURL(blob);\n",
              "      a.download = filename;\n",
              "      div.appendChild(a);\n",
              "      a.click();\n",
              "      div.remove();\n",
              "    }\n",
              "  "
            ],
            "text/plain": [
              "<IPython.core.display.Javascript object>"
            ]
          },
          "metadata": {}
        },
        {
          "output_type": "display_data",
          "data": {
            "application/javascript": [
              "download(\"download_e2a73290-011a-4e0c-8187-218a991e0ad9\", \"wiki_ui_csv.csv\", 10038418)"
            ],
            "text/plain": [
              "<IPython.core.display.Javascript object>"
            ]
          },
          "metadata": {}
        }
      ]
    },
    {
      "cell_type": "markdown",
      "source": [
        "### Format NDJSON"
      ],
      "metadata": {
        "id": "zbyXqBZniwbM"
      }
    },
    {
      "cell_type": "code",
      "source": [
        "df_wiki.to_json(\"wiki_ui_ndjson.ndjson\", orient=\"records\", lines=True, force_ascii=0)\n",
        "files.download(\"wiki_ui_ndjson.ndjson\")"
      ],
      "metadata": {
        "colab": {
          "base_uri": "https://localhost:8080/",
          "height": 17
        },
        "id": "JcvfjXEbVyT2",
        "outputId": "7164fe10-3faf-44a1-b5f1-48c731610f74"
      },
      "execution_count": 26,
      "outputs": [
        {
          "output_type": "display_data",
          "data": {
            "application/javascript": [
              "\n",
              "    async function download(id, filename, size) {\n",
              "      if (!google.colab.kernel.accessAllowed) {\n",
              "        return;\n",
              "      }\n",
              "      const div = document.createElement('div');\n",
              "      const label = document.createElement('label');\n",
              "      label.textContent = `Downloading \"${filename}\": `;\n",
              "      div.appendChild(label);\n",
              "      const progress = document.createElement('progress');\n",
              "      progress.max = size;\n",
              "      div.appendChild(progress);\n",
              "      document.body.appendChild(div);\n",
              "\n",
              "      const buffers = [];\n",
              "      let downloaded = 0;\n",
              "\n",
              "      const channel = await google.colab.kernel.comms.open(id);\n",
              "      // Send a message to notify the kernel that we're ready.\n",
              "      channel.send({})\n",
              "\n",
              "      for await (const message of channel.messages) {\n",
              "        // Send a message to notify the kernel that we're ready.\n",
              "        channel.send({})\n",
              "        if (message.buffers) {\n",
              "          for (const buffer of message.buffers) {\n",
              "            buffers.push(buffer);\n",
              "            downloaded += buffer.byteLength;\n",
              "            progress.value = downloaded;\n",
              "          }\n",
              "        }\n",
              "      }\n",
              "      const blob = new Blob(buffers, {type: 'application/binary'});\n",
              "      const a = document.createElement('a');\n",
              "      a.href = window.URL.createObjectURL(blob);\n",
              "      a.download = filename;\n",
              "      div.appendChild(a);\n",
              "      a.click();\n",
              "      div.remove();\n",
              "    }\n",
              "  "
            ],
            "text/plain": [
              "<IPython.core.display.Javascript object>"
            ]
          },
          "metadata": {}
        },
        {
          "output_type": "display_data",
          "data": {
            "application/javascript": [
              "download(\"download_2574d802-8c6b-4141-af24-e4b0ab0b39dc\", \"wiki_ui_ndjson.ndjson\", 14528927)"
            ],
            "text/plain": [
              "<IPython.core.display.Javascript object>"
            ]
          },
          "metadata": {}
        }
      ]
    },
    {
      "cell_type": "markdown",
      "source": [
        "## Option 3: Ingest to Tinybird from the CLI, from:\n",
        "- CSV\n",
        "- NDJSON\n",
        "\n",
        "For the schema use \n",
        "```\n",
        "!tb --token=$token datasource generate wiki_cli_csv.csv\n",
        "```\n",
        "\n",
        "or\n",
        "```\n",
        "\n",
        "!tb --token=$token datasource generate wiki_ndjson_csv.ndjson\n",
        "```\n",
        "\n",
        "or define it directly (as shown here) with data types, sorting key etc."
      ],
      "metadata": {
        "id": "Gyy2y966qMt4"
      }
    },
    {
      "cell_type": "code",
      "source": [
        "!pip install tinybird-cli -q -U"
      ],
      "metadata": {
        "id": "xwG0XbXasH82"
      },
      "execution_count": 27,
      "outputs": []
    },
    {
      "cell_type": "code",
      "source": [
        "token = '{TOKEN}'\n",
        "\n",
        "if token == '':\n",
        "   print(\"Get your token from your Tinybird workspace.\")"
      ],
      "metadata": {
        "id": "oVQu1s_OtlCD"
      },
      "execution_count": 28,
      "outputs": []
    },
    {
      "cell_type": "code",
      "source": [
        "def write_text_to_file(filename, text):\n",
        "  with open(filename, 'w') as f: f.write(text)"
      ],
      "metadata": {
        "id": "3tVbR1qLgL6P"
      },
      "execution_count": 29,
      "outputs": []
    },
    {
      "cell_type": "markdown",
      "source": [
        "### Format CSV"
      ],
      "metadata": {
        "id": "sJnwWLTxuOlU"
      }
    },
    {
      "cell_type": "code",
      "source": [
        "df_wiki.to_csv(\"wiki_cli_csv.csv\", index=False)"
      ],
      "metadata": {
        "id": "dh01Ob9k6MPq"
      },
      "execution_count": 30,
      "outputs": []
    },
    {
      "cell_type": "code",
      "source": [
        "filename = 'wiki_cli_csv.datasource'\n",
        "text='''\n",
        "SCHEMA >\n",
        "    `meta` LowCardinality(String),\n",
        "    `id` Int64,\n",
        "    `type` String,\n",
        "    `namespace` Int16,\n",
        "    `title` String,\n",
        "    `comment` Nullable(String),\n",
        "    `timestamp` Int64,\n",
        "    `user` String,\n",
        "    `bot` String,\n",
        "    `minor` Nullable(String),\n",
        "    `patrolled` Nullable(String),\n",
        "    `server_url` LowCardinality(String),\n",
        "    `server_name` LowCardinality(String),\n",
        "    `server_script_path` String,\n",
        "    `wiki` LowCardinality(String),\n",
        "    `parsedcomment` Nullable(String)\n",
        "\n",
        "ENGINE \"MergeTree\"\n",
        "ENGINE_SORTING_KEY \"timestamp\"\n",
        "'''\n",
        "\n",
        "write_text_to_file(filename, text)"
      ],
      "metadata": {
        "id": "G_o8NDcNgYbt"
      },
      "execution_count": 31,
      "outputs": []
    },
    {
      "cell_type": "code",
      "source": [
        "!tb --token=$token push wiki_cli_csv.datasource\n",
        "!tb --token=$token datasource append wiki_cli_csv wiki_cli_csv.csv"
      ],
      "metadata": {
        "colab": {
          "base_uri": "https://localhost:8080/"
        },
        "id": "FciMn7FyrcSC",
        "outputId": "2d78a32b-359c-4f9b-9157-56b77c32f6dd"
      },
      "execution_count": 32,
      "outputs": [
        {
          "output_type": "stream",
          "name": "stdout",
          "text": [
            "\u001b[0m** Processing wiki_cli_csv.datasource\u001b[0m\n",
            "\u001b[0m** Building dependencies\u001b[0m\n",
            "\u001b[0m** Running wiki_cli_csv \u001b[0m\n",
            "\u001b[92m** 'wiki_cli_csv' created\u001b[0m\n",
            "\u001b[0m** Not pushing fixtures\u001b[0m\n",
            "\u001b[0m** 🥚 starting import process\u001b[0m\n",
            "\u001b[92m** 🐥 done\u001b[0m\n",
            "\u001b[92m** Total rows in wiki_cli_csv: 22793\u001b[0m\n",
            "\u001b[92m** Data appended to Data Source 'wiki_cli_csv' successfully!\u001b[0m\n",
            "\u001b[0m** Data pushed to wiki_cli_csv\u001b[0m\n"
          ]
        }
      ]
    },
    {
      "cell_type": "markdown",
      "source": [
        "### Format NDJSON"
      ],
      "metadata": {
        "id": "8pYMGMzPuTqD"
      }
    },
    {
      "cell_type": "code",
      "source": [
        "df_wiki.to_json(\"wiki_cli_ndjson.ndjson\", orient=\"records\", lines=True, force_ascii=0)"
      ],
      "metadata": {
        "id": "foG1Jy-E6W1m"
      },
      "execution_count": 33,
      "outputs": []
    },
    {
      "cell_type": "code",
      "source": [
        "filename = 'wiki_cli_ndjson.datasource'\n",
        "text='''\n",
        "SCHEMA >\n",
        "\n",
        "    bot UInt8 `json:$.bot`,\n",
        "    comment Nullable(String) `json:$.comment`,\n",
        "    id Int64 `json:$.id`,\n",
        "    meta LowCardinality(String) `json:$.meta`,\n",
        "    minor Nullable(UInt8) `json:$.minor`,\n",
        "    namespace Int16 `json:$.namespace`,\n",
        "    parsedcomment Nullable(String) `json:$.parsedcomment`,\n",
        "    patrolled Nullable(UInt8) `json:$.patrolled`,\n",
        "    server_name String `json:$.server_name`,\n",
        "    server_script_path String `json:$.server_script_path`,\n",
        "    server_url String `json:$.server_url`,\n",
        "    timestamp Int64 `json:$.timestamp`,\n",
        "    title String `json:$.title`,\n",
        "    type String `json:$.type`,\n",
        "    user String `json:$.user`,\n",
        "    wiki LowCardinality(String) `json:$.wiki`\n",
        "    \n",
        "ENGINE \"MergeTree\"\n",
        "ENGINE_SORTING_KEY \"timestamp\"\n",
        "'''\n",
        "\n",
        "write_text_to_file(filename, text)"
      ],
      "metadata": {
        "id": "PfPqBeCErFO9"
      },
      "execution_count": 34,
      "outputs": []
    },
    {
      "cell_type": "code",
      "source": [
        "!tb --token=$token push wiki_cli_ndjson.datasource\n",
        "!tb --token=$token datasource append wiki_cli_ndjson wiki_cli_ndjson.ndjson"
      ],
      "metadata": {
        "colab": {
          "base_uri": "https://localhost:8080/"
        },
        "id": "19s5E7kQqgkp",
        "outputId": "65bf3cce-6287-4e44-d4bd-d51d060a4e0b"
      },
      "execution_count": 35,
      "outputs": [
        {
          "output_type": "stream",
          "name": "stdout",
          "text": [
            "\u001b[0m** Processing wiki_cli_ndjson.datasource\u001b[0m\n",
            "\u001b[0m** Building dependencies\u001b[0m\n",
            "\u001b[0m** Running wiki_cli_ndjson \u001b[0m\n",
            "\u001b[92m** 'wiki_cli_ndjson' created\u001b[0m\n",
            "\u001b[0m** Not pushing fixtures\u001b[0m\n",
            "\u001b[0m** 🥚 starting import process\u001b[0m\n",
            "\u001b[92m** 🐥 done\u001b[0m\n",
            "\u001b[92m** Appended 0 new rows\u001b[0m\n",
            "\u001b[92m** Total rows in wiki_cli_ndjson: 22793\u001b[0m\n",
            "\u001b[92m** Data appended to Data Source 'wiki_cli_ndjson' successfully!\u001b[0m\n",
            "\u001b[0m** Data pushed to wiki_cli_ndjson\u001b[0m\n"
          ]
        }
      ]
    }
  ]
}