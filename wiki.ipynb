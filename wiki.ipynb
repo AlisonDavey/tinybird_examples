{
  "nbformat": 4,
  "nbformat_minor": 0,
  "metadata": {
    "colab": {
      "name": "wiki.ipynb",
      "provenance": [],
      "authorship_tag": "ABX9TyNsko5XedCaiQuo9rFj9bxs",
      "include_colab_link": true
    },
    "kernelspec": {
      "name": "python3",
      "display_name": "Python 3"
    },
    "language_info": {
      "name": "python"
    }
  },
  "cells": [
    {
      "cell_type": "markdown",
      "metadata": {
        "id": "view-in-github",
        "colab_type": "text"
      },
      "source": [
        "<a href=\"https://colab.research.google.com/github/AlisonDavey/tinybird_examples/blob/main/wiki.ipynb\" target=\"_parent\"><img src=\"https://colab.research.google.com/assets/colab-badge.svg\" alt=\"Open In Colab\"/></a>"
      ]
    },
    {
      "cell_type": "markdown",
      "source": [
        "# Stream data from a Jupyter Notebook\n",
        "\n",
        "### Using pandas DataFrames of recent changes to Wikipedia\n",
        "\n",
        "- create a Data Source from 15 minutes of data in `df_wiki`\n",
        "\n",
        "- append 5 minutes of data to the Data Source from `df_wiki_new`\n",
        "\n",
        "Based on\n",
        "https://wikitech.wikimedia.org/wiki/Event_Platform/EventStreams#When_not_to_use_EventStreams\n",
        "\n",
        "Options for ingesting data:\n",
        "\n",
        "- API\n",
        "- UI\n",
        "- CLI"
      ],
      "metadata": {
        "id": "Oxn_CfV3o_Tx"
      }
    },
    {
      "cell_type": "markdown",
      "metadata": {
        "id": "2wdw1SwIGcUH"
      },
      "source": [
        "## Create pandas DataFrames"
      ]
    },
    {
      "cell_type": "code",
      "metadata": {
        "colab": {
          "base_uri": "https://localhost:8080/"
        },
        "id": "81iYYghptAbV",
        "outputId": "6b63b80a-3ebe-4686-b24e-08675f6089d1"
      },
      "source": [
        "!pip install sseclient\n",
        "!pip install fsspec\n",
        "!pip install ndjson"
      ],
      "execution_count": 47,
      "outputs": [
        {
          "output_type": "stream",
          "name": "stdout",
          "text": [
            "Requirement already satisfied: sseclient in /usr/local/lib/python3.7/dist-packages (0.0.27)\n",
            "Requirement already satisfied: six in /usr/local/lib/python3.7/dist-packages (from sseclient) (1.15.0)\n",
            "Requirement already satisfied: requests>=2.9 in /usr/local/lib/python3.7/dist-packages (from sseclient) (2.25.1)\n",
            "Requirement already satisfied: idna<3,>=2.5 in /usr/local/lib/python3.7/dist-packages (from requests>=2.9->sseclient) (2.10)\n",
            "Requirement already satisfied: certifi>=2017.4.17 in /usr/local/lib/python3.7/dist-packages (from requests>=2.9->sseclient) (2021.10.8)\n",
            "Requirement already satisfied: urllib3<1.27,>=1.21.1 in /usr/local/lib/python3.7/dist-packages (from requests>=2.9->sseclient) (1.24.3)\n",
            "Requirement already satisfied: chardet<5,>=3.0.2 in /usr/local/lib/python3.7/dist-packages (from requests>=2.9->sseclient) (3.0.4)\n",
            "Requirement already satisfied: fsspec in /usr/local/lib/python3.7/dist-packages (2022.1.0)\n",
            "Requirement already satisfied: ndjson in /usr/local/lib/python3.7/dist-packages (0.3.1)\n"
          ]
        }
      ]
    },
    {
      "cell_type": "code",
      "metadata": {
        "id": "K8JBne3NspAs"
      },
      "source": [
        "import json\n",
        "import ndjson\n",
        "from sseclient import SSEClient as EventSource\n",
        "\n",
        "import fsspec\n",
        "import time\n",
        "from google.colab import files\n",
        "\n",
        "import pandas as pd"
      ],
      "execution_count": 2,
      "outputs": []
    },
    {
      "cell_type": "code",
      "metadata": {
        "id": "uEAPrc0kuJYb"
      },
      "source": [
        "def create_df_wiki(url='https://stream.wikimedia.org/v2/stream/recentchange', n=5):\n",
        "  df_wiki = pd.DataFrame()\n",
        "  t_end = time.time() + 60 * n\n",
        "  for event in EventSource(url):\n",
        "    if time.time() > t_end:\n",
        "      break\n",
        "    elif event.event == 'message':\n",
        "          try:\n",
        "              change = json.loads(event.data)\n",
        "          except ValueError:\n",
        "              pass\n",
        "          else:\n",
        "            if change['type']!='log':\n",
        "              df=pd.DataFrame.from_dict(change)\n",
        "              df_wiki=df_wiki.append(df[df.index=='domain'])\n",
        "  return df_wiki"
      ],
      "execution_count": 3,
      "outputs": []
    },
    {
      "cell_type": "markdown",
      "source": [
        "DataFrame of 15 minutes of data"
      ],
      "metadata": {
        "id": "3hW_BMBASTAr"
      }
    },
    {
      "cell_type": "code",
      "metadata": {
        "id": "Gj53VnIWBwEj"
      },
      "source": [
        "df_wiki = create_df_wiki(n=15)\n",
        "df_wiki.drop(columns=['$schema','length','revision'], inplace=True) # drop unwanted columns"
      ],
      "execution_count": 46,
      "outputs": []
    },
    {
      "cell_type": "code",
      "source": [
        "df_wiki.info()"
      ],
      "metadata": {
        "colab": {
          "base_uri": "https://localhost:8080/"
        },
        "id": "oDdsJQ3VWnBM",
        "outputId": "47544bff-3e23-434b-dc04-bf38e96a96dc"
      },
      "execution_count": 5,
      "outputs": [
        {
          "output_type": "stream",
          "name": "stdout",
          "text": [
            "<class 'pandas.core.frame.DataFrame'>\n",
            "Index: 22310 entries, domain to domain\n",
            "Data columns (total 16 columns):\n",
            " #   Column              Non-Null Count  Dtype \n",
            "---  ------              --------------  ----- \n",
            " 0   meta                22310 non-null  object\n",
            " 1   id                  22310 non-null  int64 \n",
            " 2   type                22310 non-null  object\n",
            " 3   namespace           22310 non-null  int64 \n",
            " 4   title               22310 non-null  object\n",
            " 5   comment             22310 non-null  object\n",
            " 6   timestamp           22310 non-null  int64 \n",
            " 7   user                22310 non-null  object\n",
            " 8   bot                 22310 non-null  bool  \n",
            " 9   server_url          22310 non-null  object\n",
            " 10  server_name         22310 non-null  object\n",
            " 11  server_script_path  22310 non-null  object\n",
            " 12  wiki                22310 non-null  object\n",
            " 13  parsedcomment       22310 non-null  object\n",
            " 14  minor               14452 non-null  object\n",
            " 15  patrolled           9921 non-null   object\n",
            "dtypes: bool(1), int64(3), object(12)\n",
            "memory usage: 2.7+ MB\n"
          ]
        }
      ]
    },
    {
      "cell_type": "markdown",
      "source": [
        "DataFrame of 5 minutes of data"
      ],
      "metadata": {
        "id": "AXvIcnIMSWmQ"
      }
    },
    {
      "cell_type": "code",
      "source": [
        "df_wiki_new = create_df_wiki(n=5)\n",
        "df_wiki_new.drop(columns=['$schema','length','revision'], inplace=True) # drop unwanted columns"
      ],
      "metadata": {
        "id": "JTCor3C7dJGV"
      },
      "execution_count": 48,
      "outputs": []
    },
    {
      "cell_type": "markdown",
      "source": [
        "## Option 1: Stream to Tinybird using the API"
      ],
      "metadata": {
        "id": "yzgtMC6oPTpQ"
      }
    },
    {
      "cell_type": "code",
      "source": [
        "import csv\n",
        "import requests\n",
        "\n",
        "from io import StringIO\n",
        "from requests.adapters import HTTPAdapter\n",
        "\n",
        "from urllib3.util.retry import Retry\n",
        "from urllib.parse import urlencode"
      ],
      "metadata": {
        "id": "4yECHGogfalg"
      },
      "execution_count": 49,
      "outputs": []
    },
    {
      "cell_type": "code",
      "source": [
        "def ingest_from_array(rows,datasource, token, mode='append', endpoint='https://api.tinybird.co'):\n",
        "  url = f'{endpoint}/v0/datasources?mode={mode}&name={datasource}'\n",
        "\n",
        "  retry = Retry(total=5, backoff_factor=0.2)\n",
        "  adapter = HTTPAdapter(max_retries=retry)\n",
        "  _session = requests.Session()\n",
        "  _session.mount('http://', adapter)\n",
        "  _session.mount('https://', adapter)\n",
        "\n",
        "  csv_chunk = StringIO()\n",
        "  writer = csv.writer(csv_chunk, delimiter=',', quotechar='\"', quoting=csv.QUOTE_NONNUMERIC)\n",
        "\n",
        "  max_wait_records = 5000\n",
        "  max_wait_bytes = 32 * 1024 ** 2\n",
        "\n",
        "  records = 0\n",
        "  for row in rows:\n",
        "    writer.writerow(row)\n",
        "    records += 1\n",
        "\n",
        "    if (records > max_wait_records and csv_chunk.tell() > max_wait_bytes) or len(rows) == records:\n",
        "        data = csv_chunk.getvalue()\n",
        "        headers = {\n",
        "            'Authorization': f'Bearer {token}',\n",
        "            'X-TB-Client': 'pltx-0.1',\n",
        "        }\n",
        "\n",
        "        ok = False\n",
        "        try:\n",
        "            response = _session.post(url, headers=headers, files=dict(csv=data))\n",
        "            result = response.json()\n",
        "\n",
        "            ok = response.status_code < 400\n",
        "            if ok:\n",
        "                csv_chunk = StringIO()\n",
        "                writer = csv.writer(csv_chunk, delimiter=',', quotechar='\"', quoting=csv.QUOTE_NONNUMERIC)\n",
        "                print(f\"Flushed {len(data)} bytes, datasource={datasource}, response={response.status_code}\")\n",
        "                print(f\"Result id={result.get('import_id', None)}, error={result.get('error', False)}\")\n",
        "        except Exception as e:\n",
        "            print(e)\n",
        "\n",
        "  print('Done')"
      ],
      "metadata": {
        "id": "oxm5tadCfdgU"
      },
      "execution_count": 50,
      "outputs": []
    },
    {
      "cell_type": "markdown",
      "source": [
        "### Create Data Source and Ingest"
      ],
      "metadata": {
        "id": "Btw-ZzHChqu7"
      }
    },
    {
      "cell_type": "code",
      "source": [
        "datasource = 'wiki'\n",
        "#token = '{TOKEN}'\n",
        "endpoint = 'https://api.tinybird.co'"
      ],
      "metadata": {
        "id": "64eyhEPDfoU0"
      },
      "execution_count": 51,
      "outputs": []
    },
    {
      "cell_type": "code",
      "source": [
        "mode = 'create'\n",
        "rows= df_wiki.values.tolist()\n",
        "rows.insert(0, df_wiki.columns.tolist())\n",
        "\n",
        "ingest_from_array(rows, datasource, token, mode, endpoint)"
      ],
      "metadata": {
        "colab": {
          "base_uri": "https://localhost:8080/"
        },
        "id": "dBySTMNUfuCl",
        "outputId": "bb37b77a-c5e4-4492-ec31-d72dcb72e1b8"
      },
      "execution_count": 52,
      "outputs": [
        {
          "output_type": "stream",
          "name": "stdout",
          "text": [
            "Flushed 10297052 bytes, datasource=wiki, response=200\n",
            "Result id=9b4c777a-cea4-49ba-a05e-dcf77b9e9542, error=False\n",
            "Done\n"
          ]
        }
      ]
    },
    {
      "cell_type": "markdown",
      "source": [
        "### Append to Data Source"
      ],
      "metadata": {
        "id": "hshT0Wgph0dL"
      }
    },
    {
      "cell_type": "code",
      "source": [
        "mode = 'append'\n",
        "rows= df_wiki_new.values.tolist()\n",
        "rows.insert(0, df_wiki_new.columns.tolist())\n",
        "\n",
        "ingest_from_array(rows, datasource, token, mode, endpoint)"
      ],
      "metadata": {
        "colab": {
          "base_uri": "https://localhost:8080/"
        },
        "id": "iC_zVWgBhY0A",
        "outputId": "0bdc3c0f-40cb-4a29-8201-65cd026ae526"
      },
      "execution_count": 53,
      "outputs": [
        {
          "output_type": "stream",
          "name": "stdout",
          "text": [
            "Flushed 4036348 bytes, datasource=wiki, response=200\n",
            "Result id=987bb19c-e52f-4aff-a7c8-f240cb64acae, error=False\n",
            "Done\n"
          ]
        }
      ]
    },
    {
      "cell_type": "markdown",
      "source": [
        "## Option 2: Download to a local file then ingest to Tinybird through the UI\n",
        "\n",
        "- CSV\n",
        "- NDJSON\n",
        "\n",
        "Checking the column names and types in the preview in the UI, the column `type` can be changed to `LowCardinality(String)`."
      ],
      "metadata": {
        "id": "LLdnpFE5VlDz"
      }
    },
    {
      "cell_type": "markdown",
      "source": [
        "### Format CSV"
      ],
      "metadata": {
        "id": "Oq3dO9HqisAH"
      }
    },
    {
      "cell_type": "code",
      "source": [
        "df_wiki.to_csv(\"wiki_ui_csv.csv\", index=False)\n",
        "files.download('wiki_ui_csv.csv')"
      ],
      "metadata": {
        "colab": {
          "base_uri": "https://localhost:8080/",
          "height": 17
        },
        "id": "MW8Rgq8jkJyM",
        "outputId": "2505028d-68ed-4aca-b68b-3c9a4da45947"
      },
      "execution_count": 54,
      "outputs": [
        {
          "output_type": "display_data",
          "data": {
            "application/javascript": [
              "\n",
              "    async function download(id, filename, size) {\n",
              "      if (!google.colab.kernel.accessAllowed) {\n",
              "        return;\n",
              "      }\n",
              "      const div = document.createElement('div');\n",
              "      const label = document.createElement('label');\n",
              "      label.textContent = `Downloading \"${filename}\": `;\n",
              "      div.appendChild(label);\n",
              "      const progress = document.createElement('progress');\n",
              "      progress.max = size;\n",
              "      div.appendChild(progress);\n",
              "      document.body.appendChild(div);\n",
              "\n",
              "      const buffers = [];\n",
              "      let downloaded = 0;\n",
              "\n",
              "      const channel = await google.colab.kernel.comms.open(id);\n",
              "      // Send a message to notify the kernel that we're ready.\n",
              "      channel.send({})\n",
              "\n",
              "      for await (const message of channel.messages) {\n",
              "        // Send a message to notify the kernel that we're ready.\n",
              "        channel.send({})\n",
              "        if (message.buffers) {\n",
              "          for (const buffer of message.buffers) {\n",
              "            buffers.push(buffer);\n",
              "            downloaded += buffer.byteLength;\n",
              "            progress.value = downloaded;\n",
              "          }\n",
              "        }\n",
              "      }\n",
              "      const blob = new Blob(buffers, {type: 'application/binary'});\n",
              "      const a = document.createElement('a');\n",
              "      a.href = window.URL.createObjectURL(blob);\n",
              "      a.download = filename;\n",
              "      div.appendChild(a);\n",
              "      a.click();\n",
              "      div.remove();\n",
              "    }\n",
              "  "
            ],
            "text/plain": [
              "<IPython.core.display.Javascript object>"
            ]
          },
          "metadata": {}
        },
        {
          "output_type": "display_data",
          "data": {
            "application/javascript": [
              "download(\"download_33ae8032-1e52-4027-91e8-e1db476e141f\", \"wiki_ui_csv.csv\", 10346732)"
            ],
            "text/plain": [
              "<IPython.core.display.Javascript object>"
            ]
          },
          "metadata": {}
        }
      ]
    },
    {
      "cell_type": "markdown",
      "source": [
        "### Format NDJSON"
      ],
      "metadata": {
        "id": "zbyXqBZniwbM"
      }
    },
    {
      "cell_type": "code",
      "source": [
        "df_wiki.to_json(\"wiki_ui_ndjson.ndjson\", orient=\"records\", lines=True, force_ascii=0)\n",
        "files.download(\"wiki_ui_ndjson.ndjson\")"
      ],
      "metadata": {
        "colab": {
          "base_uri": "https://localhost:8080/",
          "height": 17
        },
        "id": "JcvfjXEbVyT2",
        "outputId": "06a81efd-a7d2-4790-ebb9-1ac2730a5379"
      },
      "execution_count": 55,
      "outputs": [
        {
          "output_type": "display_data",
          "data": {
            "application/javascript": [
              "\n",
              "    async function download(id, filename, size) {\n",
              "      if (!google.colab.kernel.accessAllowed) {\n",
              "        return;\n",
              "      }\n",
              "      const div = document.createElement('div');\n",
              "      const label = document.createElement('label');\n",
              "      label.textContent = `Downloading \"${filename}\": `;\n",
              "      div.appendChild(label);\n",
              "      const progress = document.createElement('progress');\n",
              "      progress.max = size;\n",
              "      div.appendChild(progress);\n",
              "      document.body.appendChild(div);\n",
              "\n",
              "      const buffers = [];\n",
              "      let downloaded = 0;\n",
              "\n",
              "      const channel = await google.colab.kernel.comms.open(id);\n",
              "      // Send a message to notify the kernel that we're ready.\n",
              "      channel.send({})\n",
              "\n",
              "      for await (const message of channel.messages) {\n",
              "        // Send a message to notify the kernel that we're ready.\n",
              "        channel.send({})\n",
              "        if (message.buffers) {\n",
              "          for (const buffer of message.buffers) {\n",
              "            buffers.push(buffer);\n",
              "            downloaded += buffer.byteLength;\n",
              "            progress.value = downloaded;\n",
              "          }\n",
              "        }\n",
              "      }\n",
              "      const blob = new Blob(buffers, {type: 'application/binary'});\n",
              "      const a = document.createElement('a');\n",
              "      a.href = window.URL.createObjectURL(blob);\n",
              "      a.download = filename;\n",
              "      div.appendChild(a);\n",
              "      a.click();\n",
              "      div.remove();\n",
              "    }\n",
              "  "
            ],
            "text/plain": [
              "<IPython.core.display.Javascript object>"
            ]
          },
          "metadata": {}
        },
        {
          "output_type": "display_data",
          "data": {
            "application/javascript": [
              "download(\"download_3a4859b9-b7c9-40f5-ae05-9b2d450e337d\", \"wiki_ui_ndjson.ndjson\", 14824370)"
            ],
            "text/plain": [
              "<IPython.core.display.Javascript object>"
            ]
          },
          "metadata": {}
        }
      ]
    },
    {
      "cell_type": "markdown",
      "source": [
        "## Option 3: Ingest to Tinybird from the CLI\n",
        "- CSV\n",
        "- NDJSON"
      ],
      "metadata": {
        "id": "Gyy2y966qMt4"
      }
    },
    {
      "cell_type": "code",
      "source": [
        "!pip install tinybird-cli -q -U"
      ],
      "metadata": {
        "id": "xwG0XbXasH82"
      },
      "execution_count": 56,
      "outputs": []
    },
    {
      "cell_type": "code",
      "source": [
        "#token = '{TOKEN}'"
      ],
      "metadata": {
        "id": "oVQu1s_OtlCD"
      },
      "execution_count": 15,
      "outputs": []
    },
    {
      "cell_type": "markdown",
      "source": [
        "### Format CSV"
      ],
      "metadata": {
        "id": "sJnwWLTxuOlU"
      }
    },
    {
      "cell_type": "code",
      "source": [
        "df_wiki.to_csv(\"wiki_cli_csv.csv\", index=False)\n",
        "!tb --token=$token datasource generate 'wiki_cli_csv.csv' "
      ],
      "metadata": {
        "colab": {
          "base_uri": "https://localhost:8080/"
        },
        "id": "FciMn7FyrcSC",
        "outputId": "eff10456-20a9-4aa0-f6d7-7ca00a482a46"
      },
      "execution_count": 57,
      "outputs": [
        {
          "output_type": "stream",
          "name": "stdout",
          "text": [
            "\u001b[92m** Generated wiki_cli_csv.datasource\n",
            "** => Create it on the server running: $ tb push wiki_cli_csv.datasource\n",
            "** => Append data using: $ tb datasource append wiki_cli_csv wiki_cli_csv.csv\n",
            "\u001b[0m\n"
          ]
        }
      ]
    },
    {
      "cell_type": "code",
      "source": [
        "!tb --token=$token push wiki_cli_csv.datasource"
      ],
      "metadata": {
        "colab": {
          "base_uri": "https://localhost:8080/"
        },
        "id": "iH3hx-DxvB6f",
        "outputId": "5d1503da-f4b6-494c-be56-c2b947194e4a"
      },
      "execution_count": 58,
      "outputs": [
        {
          "output_type": "stream",
          "name": "stdout",
          "text": [
            "\u001b[0m** Processing wiki_cli_csv.datasource\u001b[0m\n",
            "\u001b[0m** Building dependencies\u001b[0m\n",
            "\u001b[0m** Running wiki_cli_csv \u001b[0m\n",
            "\u001b[92m** 'wiki_cli_csv' created\u001b[0m\n",
            "\u001b[0m** Not pushing fixtures\u001b[0m\n"
          ]
        }
      ]
    },
    {
      "cell_type": "code",
      "source": [
        "!tb --token=$token datasource append wiki_cli_csv wiki_cli_csv.csv"
      ],
      "metadata": {
        "colab": {
          "base_uri": "https://localhost:8080/"
        },
        "id": "pladILuCvi9S",
        "outputId": "b4e6a0fb-d07f-4f19-8b1d-55cc2bb5dfe1"
      },
      "execution_count": 59,
      "outputs": [
        {
          "output_type": "stream",
          "name": "stdout",
          "text": [
            "\u001b[0m** 🥚 starting import process\u001b[0m\n",
            "\u001b[92m** 🐥 done\u001b[0m\n",
            "\u001b[92m** Total rows in wiki_cli_csv: 22744\u001b[0m\n",
            "\u001b[92m** Data appended to Data Source 'wiki_cli_csv' successfully!\u001b[0m\n",
            "\u001b[0m** Data pushed to wiki_cli_csv\u001b[0m\n"
          ]
        }
      ]
    },
    {
      "cell_type": "markdown",
      "source": [
        "### Format NDJSON"
      ],
      "metadata": {
        "id": "8pYMGMzPuTqD"
      }
    },
    {
      "cell_type": "code",
      "source": [
        "df_wiki.to_json(\"wiki_cli_ndjson.ndjson\", orient=\"records\", lines=True, force_ascii=0)\n",
        "!tb --token=$token datasource generate 'wiki_cli_ndjson.ndjson'"
      ],
      "metadata": {
        "colab": {
          "base_uri": "https://localhost:8080/"
        },
        "id": "19s5E7kQqgkp",
        "outputId": "5d513ce4-640e-4e5d-ca50-7f0d0131b315"
      },
      "execution_count": 60,
      "outputs": [
        {
          "output_type": "stream",
          "name": "stdout",
          "text": [
            "\u001b[92m** Generated wiki_cli_ndjson.datasource\n",
            "** => Create it on the server running: $ tb push wiki_cli_ndjson.datasource\n",
            "** => Append data using: $ tb datasource append wiki_cli_ndjson wiki_cli_ndjson.ndjson\n",
            "\u001b[0m\n"
          ]
        }
      ]
    },
    {
      "cell_type": "code",
      "source": [
        "!tb --token=$token push wiki_cli_ndjson.datasource"
      ],
      "metadata": {
        "colab": {
          "base_uri": "https://localhost:8080/"
        },
        "id": "5fCmG6y9vytr",
        "outputId": "9155a1cc-a626-4a55-babf-5403daf24935"
      },
      "execution_count": 61,
      "outputs": [
        {
          "output_type": "stream",
          "name": "stdout",
          "text": [
            "\u001b[0m** Processing wiki_cli_ndjson.datasource\u001b[0m\n",
            "\u001b[0m** Building dependencies\u001b[0m\n",
            "\u001b[0m** Running wiki_cli_ndjson \u001b[0m\n",
            "\u001b[92m** 'wiki_cli_ndjson' created\u001b[0m\n",
            "\u001b[0m** Not pushing fixtures\u001b[0m\n"
          ]
        }
      ]
    },
    {
      "cell_type": "code",
      "source": [
        "!tb --token=$token datasource append wiki_cli_ndjson wiki_cli_ndjson.ndjson"
      ],
      "metadata": {
        "colab": {
          "base_uri": "https://localhost:8080/"
        },
        "id": "H2ANiJe5v2H4",
        "outputId": "8dae6448-e155-43bd-e786-f7494073bf99"
      },
      "execution_count": 62,
      "outputs": [
        {
          "output_type": "stream",
          "name": "stdout",
          "text": [
            "\u001b[0m** 🥚 starting import process\u001b[0m\n",
            "\u001b[92m** 🐥 done\u001b[0m\n",
            "\u001b[92m** Appended 0 new rows\u001b[0m\n",
            "\u001b[92m** Total rows in wiki_cli_ndjson: 22744\u001b[0m\n",
            "\u001b[92m** Data appended to Data Source 'wiki_cli_ndjson' successfully!\u001b[0m\n",
            "\u001b[0m** Data pushed to wiki_cli_ndjson\u001b[0m\n"
          ]
        }
      ]
    },
    {
      "cell_type": "code",
      "source": [
        ""
      ],
      "metadata": {
        "id": "LTiDkBs-XTgK"
      },
      "execution_count": null,
      "outputs": []
    }
  ]
}