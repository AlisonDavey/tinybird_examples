{
  "nbformat": 4,
  "nbformat_minor": 0,
  "metadata": {
    "colab": {
      "name": "ingestion_from_notebook.ipynb",
      "provenance": [],
      "collapsed_sections": [],
      "authorship_tag": "ABX9TyO4F20CWdcinppwC9YM/aaB",
      "include_colab_link": true
    },
    "kernelspec": {
      "name": "python3",
      "display_name": "Python 3"
    },
    "language_info": {
      "name": "python"
    }
  },
  "cells": [
    {
      "cell_type": "markdown",
      "metadata": {
        "id": "view-in-github",
        "colab_type": "text"
      },
      "source": [
        "<a href=\"https://colab.research.google.com/github/AlisonDavey/tinybird_examples/blob/main/ingestion_from_notebook.ipynb\" target=\"_parent\"><img src=\"https://colab.research.google.com/assets/colab-badge.svg\" alt=\"Open In Colab\"/></a>"
      ]
    },
    {
      "cell_type": "markdown",
      "source": [
        "# Ingestion from a Jupyter Notebook\n",
        "\n",
        "### Example using pandas DataFrames of recent changes to Wikipedia\n",
        "\n",
        "- create a Data Source from 5 minutes of data in `df_wiki`\n",
        "\n",
        "- append 5 minutes of data to the Data Source from `df_wiki_new`\n",
        "\n",
        "Based on\n",
        "https://wikitech.wikimedia.org/wiki/Event_Platform/EventStreams\n",
        "\n",
        "**Options for ingesting data:**\n",
        "\n",
        "1. Rest API\n",
        "2. UI\n",
        "3. CLI\n",
        "4. High-frequency ingestion"
      ],
      "metadata": {
        "id": "Oxn_CfV3o_Tx"
      }
    },
    {
      "cell_type": "markdown",
      "metadata": {
        "id": "2wdw1SwIGcUH"
      },
      "source": [
        "## Create pandas DataFrames"
      ]
    },
    {
      "cell_type": "code",
      "metadata": {
        "colab": {
          "base_uri": "https://localhost:8080/"
        },
        "id": "81iYYghptAbV",
        "outputId": "1626b189-b64e-4401-9031-ffbb0eea3319"
      },
      "source": [
        "!pip install sseclient"
      ],
      "execution_count": 2,
      "outputs": [
        {
          "output_type": "stream",
          "name": "stdout",
          "text": [
            "Collecting sseclient\n",
            "  Downloading sseclient-0.0.27.tar.gz (7.5 kB)\n",
            "Requirement already satisfied: requests>=2.9 in /usr/local/lib/python3.7/dist-packages (from sseclient) (2.23.0)\n",
            "Requirement already satisfied: six in /usr/local/lib/python3.7/dist-packages (from sseclient) (1.15.0)\n",
            "Requirement already satisfied: chardet<4,>=3.0.2 in /usr/local/lib/python3.7/dist-packages (from requests>=2.9->sseclient) (3.0.4)\n",
            "Requirement already satisfied: idna<3,>=2.5 in /usr/local/lib/python3.7/dist-packages (from requests>=2.9->sseclient) (2.10)\n",
            "Requirement already satisfied: certifi>=2017.4.17 in /usr/local/lib/python3.7/dist-packages (from requests>=2.9->sseclient) (2021.10.8)\n",
            "Requirement already satisfied: urllib3!=1.25.0,!=1.25.1,<1.26,>=1.21.1 in /usr/local/lib/python3.7/dist-packages (from requests>=2.9->sseclient) (1.24.3)\n",
            "Building wheels for collected packages: sseclient\n",
            "  Building wheel for sseclient (setup.py) ... \u001b[?25l\u001b[?25hdone\n",
            "  Created wheel for sseclient: filename=sseclient-0.0.27-py3-none-any.whl size=5584 sha256=6ed7d839a8fbbdfab1bbc6d1648e9ad3c3b7842a0ffcce632f8b4d787c2c59b5\n",
            "  Stored in directory: /root/.cache/pip/wheels/07/67/7e/96edf627ac746de1a5c5cbb8d59ed960f033b8352dc12c545d\n",
            "Successfully built sseclient\n",
            "Installing collected packages: sseclient\n",
            "Successfully installed sseclient-0.0.27\n"
          ]
        }
      ]
    },
    {
      "cell_type": "code",
      "metadata": {
        "id": "K8JBne3NspAs"
      },
      "source": [
        "import json\n",
        "from sseclient import SSEClient as EventSource\n",
        "import time\n",
        "\n",
        "from google.colab import files\n",
        "import pandas as pd"
      ],
      "execution_count": 3,
      "outputs": []
    },
    {
      "cell_type": "code",
      "metadata": {
        "id": "uEAPrc0kuJYb"
      },
      "source": [
        "def create_df_wiki(url='https://stream.wikimedia.org/v2/stream/recentchange', n=5):\n",
        "  df_wiki = pd.DataFrame()\n",
        "  t_end = time.time() + 60 * n\n",
        "  change = {'timestamp': time.time()}\n",
        "  for event in EventSource(url):\n",
        "    if change['timestamp'] > t_end:\n",
        "          break\n",
        "    elif event.event == 'message':\n",
        "          try:\n",
        "              change = json.loads(event.data)\n",
        "          except ValueError:\n",
        "              pass\n",
        "          else:\n",
        "            if change['type']!='log':\n",
        "              df=pd.DataFrame.from_dict(change)\n",
        "              df_wiki=df_wiki.append(df[df.index=='domain'])\n",
        "  return df_wiki"
      ],
      "execution_count": 4,
      "outputs": []
    },
    {
      "cell_type": "markdown",
      "source": [
        "DataFrame of n minutes of data to create Data Source"
      ],
      "metadata": {
        "id": "3hW_BMBASTAr"
      }
    },
    {
      "cell_type": "code",
      "metadata": {
        "id": "Gj53VnIWBwEj"
      },
      "source": [
        "df_wiki = create_df_wiki(n=5)\n",
        "df_wiki.drop(columns=['$schema','length','revision'], inplace=True)"
      ],
      "execution_count": 5,
      "outputs": []
    },
    {
      "cell_type": "code",
      "source": [
        "df_wiki.info()"
      ],
      "metadata": {
        "colab": {
          "base_uri": "https://localhost:8080/"
        },
        "id": "IO3s49280Ooh",
        "outputId": "eb825cb7-46cb-4d10-f08a-adcab5610bf8"
      },
      "execution_count": 6,
      "outputs": [
        {
          "output_type": "stream",
          "name": "stdout",
          "text": [
            "<class 'pandas.core.frame.DataFrame'>\n",
            "Index: 7762 entries, domain to domain\n",
            "Data columns (total 16 columns):\n",
            " #   Column              Non-Null Count  Dtype \n",
            "---  ------              --------------  ----- \n",
            " 0   meta                7762 non-null   object\n",
            " 1   id                  7762 non-null   int64 \n",
            " 2   type                7762 non-null   object\n",
            " 3   namespace           7762 non-null   int64 \n",
            " 4   title               7762 non-null   object\n",
            " 5   comment             7762 non-null   object\n",
            " 6   timestamp           7762 non-null   int64 \n",
            " 7   user                7762 non-null   object\n",
            " 8   bot                 7762 non-null   bool  \n",
            " 9   server_url          7762 non-null   object\n",
            " 10  server_name         7762 non-null   object\n",
            " 11  server_script_path  7762 non-null   object\n",
            " 12  wiki                7762 non-null   object\n",
            " 13  parsedcomment       7762 non-null   object\n",
            " 14  minor               4689 non-null   object\n",
            " 15  patrolled           2911 non-null   object\n",
            "dtypes: bool(1), int64(3), object(12)\n",
            "memory usage: 977.8+ KB\n"
          ]
        }
      ]
    },
    {
      "cell_type": "markdown",
      "source": [
        "DataFrame of 5 minutes of data to append to Data Source"
      ],
      "metadata": {
        "id": "AXvIcnIMSWmQ"
      }
    },
    {
      "cell_type": "code",
      "source": [
        "df_wiki_new = create_df_wiki(n=5)\n",
        "df_wiki_new.drop(columns=['$schema','length','revision'], inplace=True)"
      ],
      "metadata": {
        "id": "JTCor3C7dJGV"
      },
      "execution_count": 7,
      "outputs": []
    },
    {
      "cell_type": "markdown",
      "source": [
        "## Option 1: Ingest to Tinybird using the Rest API"
      ],
      "metadata": {
        "id": "yzgtMC6oPTpQ"
      }
    },
    {
      "cell_type": "code",
      "source": [
        "if token == '':\n",
        "   print(\"Get your token from your Tinybird workspace.\")"
      ],
      "metadata": {
        "id": "8YWYW-mISvYA"
      },
      "execution_count": 8,
      "outputs": []
    },
    {
      "cell_type": "markdown",
      "source": [
        "### Create Data Source from CSV File\n",
        "\n",
        "Column names read from first row, column data types inferred."
      ],
      "metadata": {
        "id": "C7o7_mTquSA2"
      }
    },
    {
      "cell_type": "code",
      "source": [
        "header = f'\"Authorization: Bearer {token}\"'\n",
        "\n",
        "name = \"wiki_api_csv\"\n",
        "mode = 'create'\n",
        "url = 'https://api.tinybird.co/v0/datasources'\n",
        "endpoint = f'\"{url}?mode={mode}&name={name}\"' \n",
        "\n",
        "filename = 'wiki_api_csv.csv'\n",
        "df_wiki.to_csv(filename, index=False)\n",
        "\n",
        "!curl -H $header -X POST $endpoint -F csv=@{filename}"
      ],
      "metadata": {
        "colab": {
          "base_uri": "https://localhost:8080/"
        },
        "id": "NLzS0ZkuuEFs",
        "outputId": "64fb2bdb-5142-4a47-c943-16d5efe715a1"
      },
      "execution_count": 9,
      "outputs": [
        {
          "output_type": "stream",
          "name": "stdout",
          "text": [
            "{\n",
            "    \"import_id\": \"ca6d6ba3-7c00-4b47-b139-3441e6b77f64\",\n",
            "    \"datasource\": {\n",
            "        \"id\": \"t_cf8ea5980c104b148bfd7db9163be543\",\n",
            "        \"name\": \"wiki_api_csv\",\n",
            "        \"cluster\": null,\n",
            "        \"tags\": {},\n",
            "        \"created_at\": \"2022-02-03 18:43:08.339427\",\n",
            "        \"updated_at\": \"2022-02-03 18:43:08.761303\",\n",
            "        \"replicated\": false,\n",
            "        \"version\": 0,\n",
            "        \"project\": null,\n",
            "        \"headers\": {\n",
            "            \"dialect\": {\n",
            "                \"header\": \"['meta', 'id', 'type', 'namespace', 'title', 'comment', 'timestamp', 'user', 'bot', 'server_url', 'server_name', 'server_script_path', 'wiki', 'parsedcomment', 'minor', 'patrolled']\",\n",
            "                \"header_hash\": -3515026578321396069\n",
            "            }\n",
            "        },\n",
            "        \"shared_with\": [],\n",
            "        \"engine\": {\n",
            "            \"engine\": \"MergeTree\",\n",
            "            \"partition_key\": \"substring(meta, 1, 1)\",\n",
            "            \"sorting_key\": \"meta, cityHash64(title)\",\n",
            "            \"sampling_key\": \"cityHash64(title)\"\n",
            "        },\n",
            "        \"used_by\": [],\n",
            "        \"type\": \"csv\"\n",
            "    },\n",
            "    \"quarantine_rows\": 0,\n",
            "    \"invalid_lines\": 0,\n",
            "    \"error\": false\n",
            "}"
          ]
        }
      ]
    },
    {
      "cell_type": "markdown",
      "source": [
        "### Append to Data Source from CSV File"
      ],
      "metadata": {
        "id": "ZdQnwSknuaOf"
      }
    },
    {
      "cell_type": "code",
      "source": [
        "filename = 'wiki_new_api_csv.csv'\n",
        "df_wiki_new.to_csv(filename, index=False)\n",
        "\n",
        "mode = 'append'\n",
        "endpoint = f'\"{url}?mode={mode}&name={name}\"' \n",
        "\n",
        "!curl -H $header -X POST $endpoint -F csv=@{filename}"
      ],
      "metadata": {
        "colab": {
          "base_uri": "https://localhost:8080/"
        },
        "id": "48QUDW4Suf4i",
        "outputId": "c1f0f9a8-8fb6-43d9-de04-5412d4ad83fa"
      },
      "execution_count": 10,
      "outputs": [
        {
          "output_type": "stream",
          "name": "stdout",
          "text": [
            "{\n",
            "    \"import_id\": \"f7a3ec08-5485-4c3e-82c0-721ab4971aa7\",\n",
            "    \"datasource\": {\n",
            "        \"id\": \"t_cf8ea5980c104b148bfd7db9163be543\",\n",
            "        \"name\": \"wiki_api_csv\",\n",
            "        \"cluster\": null,\n",
            "        \"tags\": {},\n",
            "        \"created_at\": \"2022-02-03 18:43:08.339427\",\n",
            "        \"updated_at\": \"2022-02-03 18:43:14.247794\",\n",
            "        \"replicated\": false,\n",
            "        \"version\": 0,\n",
            "        \"project\": null,\n",
            "        \"headers\": {\n",
            "            \"dialect\": {\n",
            "                \"header\": \"['meta', 'id', 'type', 'namespace', 'title', 'comment', 'timestamp', 'user', 'bot', 'server_url', 'server_name', 'server_script_path', 'wiki', 'parsedcomment', 'minor', 'patrolled']\",\n",
            "                \"header_hash\": -3515026578321396069\n",
            "            },\n",
            "            \"cached_delimiter\": \",\"\n",
            "        },\n",
            "        \"shared_with\": [],\n",
            "        \"engine\": {\n",
            "            \"engine\": \"MergeTree\",\n",
            "            \"partition_key\": \"substring(meta, 1, 1)\",\n",
            "            \"sorting_key\": \"meta, cityHash64(title)\",\n",
            "            \"sampling_key\": \"cityHash64(title)\"\n",
            "        },\n",
            "        \"used_by\": [],\n",
            "        \"type\": \"csv\"\n",
            "    },\n",
            "    \"quarantine_rows\": 0,\n",
            "    \"invalid_lines\": 0,\n",
            "    \"error\": false\n",
            "}"
          ]
        }
      ]
    },
    {
      "cell_type": "markdown",
      "source": [
        "### Create Data Source from Data in Memory\n",
        "based on https://gist.github.com/alrocar/9b1b860cf74ac6f2ad115c3cb2945e93"
      ],
      "metadata": {
        "id": "Btw-ZzHChqu7"
      }
    },
    {
      "cell_type": "code",
      "source": [
        "import csv\n",
        "import requests\n",
        "\n",
        "from io import StringIO\n",
        "from requests.adapters import HTTPAdapter\n",
        "\n",
        "from urllib3.util.retry import Retry\n",
        "from urllib.parse import urlencode"
      ],
      "metadata": {
        "id": "4yECHGogfalg"
      },
      "execution_count": 11,
      "outputs": []
    },
    {
      "cell_type": "code",
      "source": [
        "def ingest_from_array(rows,\n",
        "                      datasource, \n",
        "                      token, mode='append', \n",
        "                      endpoint='https://api.tinybird.co'):\n",
        "  \n",
        "  url = f'{endpoint}/v0/datasources?mode={mode}&name={datasource}'\n",
        "\n",
        "  retry = Retry(total=5, backoff_factor=0.2)\n",
        "  adapter = HTTPAdapter(max_retries=retry)\n",
        "  _session = requests.Session()\n",
        "  _session.mount('http://', adapter)\n",
        "  _session.mount('https://', adapter)\n",
        "\n",
        "  csv_chunk = StringIO()\n",
        "  writer = csv.writer(csv_chunk, delimiter=',', quotechar='\"', quoting=csv.QUOTE_NONNUMERIC)\n",
        "\n",
        "  records = 0\n",
        "  for row in rows:\n",
        "    writer.writerow(row)\n",
        "    records += 1\n",
        "\n",
        "    if len(rows) == records:\n",
        "        data = csv_chunk.getvalue()\n",
        "        headers = {\n",
        "            'Authorization': f'Bearer {token}',\n",
        "            'X-TB-Client': 'pltx-0.1',\n",
        "        }\n",
        "\n",
        "        ok = False\n",
        "        try:\n",
        "            response = _session.post(url, headers=headers, files=dict(csv=data))\n",
        "            result = response.json()\n",
        "\n",
        "            ok = response.status_code < 400\n",
        "            if ok:\n",
        "                csv_chunk = StringIO()\n",
        "                writer = csv.writer(csv_chunk, delimiter=',', quotechar='\"', quoting=csv.QUOTE_NONNUMERIC)\n",
        "                print(f\"Flushed {len(data)} bytes, datasource={datasource}, response={response.status_code}\")\n",
        "                print(f\"Result id={result.get('import_id', None)}, error={result.get('error', False)}\")\n",
        "        except Exception as e:\n",
        "            print(e)\n",
        "\n",
        "  print('Done')"
      ],
      "metadata": {
        "id": "oxm5tadCfdgU"
      },
      "execution_count": 12,
      "outputs": []
    },
    {
      "cell_type": "markdown",
      "source": [
        "Column names read from 'rows', column data types interpreted from 'rows'."
      ],
      "metadata": {
        "id": "oZGbLszlvlxD"
      }
    },
    {
      "cell_type": "code",
      "source": [
        "rows= df_wiki.values.tolist()\n",
        "# put column names in 1st row\n",
        "rows.insert(0, df_wiki.columns.tolist())\n",
        "\n",
        "datasource = 'wiki_api_mem'\n",
        "mode = 'create'\n",
        "endpoint = 'https://api.tinybird.co'\n",
        "\n",
        "ingest_from_array(rows, datasource, token, mode, endpoint)"
      ],
      "metadata": {
        "colab": {
          "base_uri": "https://localhost:8080/"
        },
        "id": "dBySTMNUfuCl",
        "outputId": "17b29a6e-6cc2-4dad-f50a-e4821a55e5a5"
      },
      "execution_count": 13,
      "outputs": [
        {
          "output_type": "stream",
          "name": "stdout",
          "text": [
            "Flushed 3471102 bytes, datasource=wiki_api_mem, response=200\n",
            "Result id=b6969f8e-32da-4d41-84e1-b3140fa463ec, error=False\n",
            "Done\n"
          ]
        }
      ]
    },
    {
      "cell_type": "markdown",
      "source": [
        "### Append to Data Source from Data in Memory"
      ],
      "metadata": {
        "id": "hshT0Wgph0dL"
      }
    },
    {
      "cell_type": "code",
      "source": [
        "mode = 'append'\n",
        "rows= df_wiki_new.values.tolist()\n",
        "\n",
        "ingest_from_array(rows, datasource, token, mode, endpoint)"
      ],
      "metadata": {
        "colab": {
          "base_uri": "https://localhost:8080/"
        },
        "id": "iC_zVWgBhY0A",
        "outputId": "5d836c0a-7980-41c8-a47a-ee190d462d9f"
      },
      "execution_count": 14,
      "outputs": [
        {
          "output_type": "stream",
          "name": "stdout",
          "text": [
            "Flushed 3386691 bytes, datasource=wiki_api_mem, response=200\n",
            "Result id=e6cb40b5-2547-4e4a-b823-b0538bc9a432, error=False\n",
            "Done\n"
          ]
        }
      ]
    },
    {
      "cell_type": "markdown",
      "source": [
        "## Option 2: Download Local File then ingest to Tinybird through the UI\n",
        "\n",
        "- CSV\n",
        "- NDJSON\n",
        "\n",
        "The column names and types can be changed in the preview in the UI, for example, the column `type` can be changed to `LowCardinality(String)`."
      ],
      "metadata": {
        "id": "LLdnpFE5VlDz"
      }
    },
    {
      "cell_type": "markdown",
      "source": [
        "### Format CSV"
      ],
      "metadata": {
        "id": "Oq3dO9HqisAH"
      }
    },
    {
      "cell_type": "code",
      "source": [
        "df_wiki.to_csv(\"wiki_ui_csv.csv\", index=False)\n",
        "files.download('wiki_ui_csv.csv')"
      ],
      "metadata": {
        "colab": {
          "base_uri": "https://localhost:8080/",
          "height": 17
        },
        "id": "MW8Rgq8jkJyM",
        "outputId": "c7c9314c-0417-4779-d5eb-306d214e18d6"
      },
      "execution_count": 15,
      "outputs": [
        {
          "output_type": "display_data",
          "data": {
            "application/javascript": [
              "\n",
              "    async function download(id, filename, size) {\n",
              "      if (!google.colab.kernel.accessAllowed) {\n",
              "        return;\n",
              "      }\n",
              "      const div = document.createElement('div');\n",
              "      const label = document.createElement('label');\n",
              "      label.textContent = `Downloading \"${filename}\": `;\n",
              "      div.appendChild(label);\n",
              "      const progress = document.createElement('progress');\n",
              "      progress.max = size;\n",
              "      div.appendChild(progress);\n",
              "      document.body.appendChild(div);\n",
              "\n",
              "      const buffers = [];\n",
              "      let downloaded = 0;\n",
              "\n",
              "      const channel = await google.colab.kernel.comms.open(id);\n",
              "      // Send a message to notify the kernel that we're ready.\n",
              "      channel.send({})\n",
              "\n",
              "      for await (const message of channel.messages) {\n",
              "        // Send a message to notify the kernel that we're ready.\n",
              "        channel.send({})\n",
              "        if (message.buffers) {\n",
              "          for (const buffer of message.buffers) {\n",
              "            buffers.push(buffer);\n",
              "            downloaded += buffer.byteLength;\n",
              "            progress.value = downloaded;\n",
              "          }\n",
              "        }\n",
              "      }\n",
              "      const blob = new Blob(buffers, {type: 'application/binary'});\n",
              "      const a = document.createElement('a');\n",
              "      a.href = window.URL.createObjectURL(blob);\n",
              "      a.download = filename;\n",
              "      div.appendChild(a);\n",
              "      a.click();\n",
              "      div.remove();\n",
              "    }\n",
              "  "
            ],
            "text/plain": [
              "<IPython.core.display.Javascript object>"
            ]
          },
          "metadata": {}
        },
        {
          "output_type": "display_data",
          "data": {
            "application/javascript": [
              "download(\"download_15d1bc83-c0ac-41df-8cbe-b691aa81064e\", \"wiki_ui_csv.csv\", 3437245)"
            ],
            "text/plain": [
              "<IPython.core.display.Javascript object>"
            ]
          },
          "metadata": {}
        }
      ]
    },
    {
      "cell_type": "markdown",
      "source": [
        "### Format NDJSON"
      ],
      "metadata": {
        "id": "zbyXqBZniwbM"
      }
    },
    {
      "cell_type": "code",
      "source": [
        "df_wiki.to_json(\"wiki_ui_ndjson.ndjson\", orient=\"records\", lines=True, force_ascii=0)\n",
        "files.download(\"wiki_ui_ndjson.ndjson\")"
      ],
      "metadata": {
        "colab": {
          "base_uri": "https://localhost:8080/",
          "height": 17
        },
        "id": "JcvfjXEbVyT2",
        "outputId": "8aa1b5d3-5fce-4e59-ef1c-04d839ed6cc7"
      },
      "execution_count": 16,
      "outputs": [
        {
          "output_type": "display_data",
          "data": {
            "application/javascript": [
              "\n",
              "    async function download(id, filename, size) {\n",
              "      if (!google.colab.kernel.accessAllowed) {\n",
              "        return;\n",
              "      }\n",
              "      const div = document.createElement('div');\n",
              "      const label = document.createElement('label');\n",
              "      label.textContent = `Downloading \"${filename}\": `;\n",
              "      div.appendChild(label);\n",
              "      const progress = document.createElement('progress');\n",
              "      progress.max = size;\n",
              "      div.appendChild(progress);\n",
              "      document.body.appendChild(div);\n",
              "\n",
              "      const buffers = [];\n",
              "      let downloaded = 0;\n",
              "\n",
              "      const channel = await google.colab.kernel.comms.open(id);\n",
              "      // Send a message to notify the kernel that we're ready.\n",
              "      channel.send({})\n",
              "\n",
              "      for await (const message of channel.messages) {\n",
              "        // Send a message to notify the kernel that we're ready.\n",
              "        channel.send({})\n",
              "        if (message.buffers) {\n",
              "          for (const buffer of message.buffers) {\n",
              "            buffers.push(buffer);\n",
              "            downloaded += buffer.byteLength;\n",
              "            progress.value = downloaded;\n",
              "          }\n",
              "        }\n",
              "      }\n",
              "      const blob = new Blob(buffers, {type: 'application/binary'});\n",
              "      const a = document.createElement('a');\n",
              "      a.href = window.URL.createObjectURL(blob);\n",
              "      a.download = filename;\n",
              "      div.appendChild(a);\n",
              "      a.click();\n",
              "      div.remove();\n",
              "    }\n",
              "  "
            ],
            "text/plain": [
              "<IPython.core.display.Javascript object>"
            ]
          },
          "metadata": {}
        },
        {
          "output_type": "display_data",
          "data": {
            "application/javascript": [
              "download(\"download_24297d75-fdbd-4083-94e0-8ccf68e1c295\", \"wiki_ui_ndjson.ndjson\", 4969590)"
            ],
            "text/plain": [
              "<IPython.core.display.Javascript object>"
            ]
          },
          "metadata": {}
        }
      ]
    },
    {
      "cell_type": "markdown",
      "source": [
        "## Option 3: Ingest to Tinybird from the CLI\n",
        "- CSV\n",
        "- NDJSON"
      ],
      "metadata": {
        "id": "Gyy2y966qMt4"
      }
    },
    {
      "cell_type": "code",
      "source": [
        "!pip install tinybird-cli -q -U"
      ],
      "metadata": {
        "id": "xwG0XbXasH82",
        "colab": {
          "base_uri": "https://localhost:8080/"
        },
        "outputId": "4a4ad24f-2a1a-455f-86c9-6a46f0b32145"
      },
      "execution_count": 17,
      "outputs": [
        {
          "output_type": "stream",
          "name": "stdout",
          "text": [
            "\u001b[K     |████████████████████████████████| 83 kB 1.1 MB/s \n",
            "\u001b[K     |████████████████████████████████| 61 kB 5.6 MB/s \n",
            "\u001b[K     |████████████████████████████████| 86 kB 3.3 MB/s \n",
            "\u001b[K     |████████████████████████████████| 54 kB 2.5 MB/s \n",
            "\u001b[K     |████████████████████████████████| 2.2 MB 43.3 MB/s \n",
            "\u001b[K     |████████████████████████████████| 46 kB 3.0 MB/s \n",
            "\u001b[K     |████████████████████████████████| 81 kB 7.2 MB/s \n",
            "\u001b[?25h  Building wheel for tabulate (setup.py) ... \u001b[?25l\u001b[?25hdone\n",
            "\u001b[31mERROR: pip's dependency resolver does not currently take into account all the packages that are installed. This behaviour is the source of the following dependency conflicts.\n",
            "google-colab 1.0.0 requires requests~=2.23.0, but you have requests 2.25.1 which is incompatible.\n",
            "datascience 0.10.6 requires folium==0.2.1, but you have folium 0.8.3 which is incompatible.\u001b[0m\n"
          ]
        }
      ]
    },
    {
      "cell_type": "code",
      "source": [
        "if token == '':\n",
        "   print(\"Get your token from your Tinybird workspace.\")"
      ],
      "metadata": {
        "id": "oVQu1s_OtlCD"
      },
      "execution_count": 18,
      "outputs": []
    },
    {
      "cell_type": "code",
      "source": [
        "def write_text_to_file(filename, text):\n",
        "  with open(filename, 'w') as f: f.write(text)"
      ],
      "metadata": {
        "id": "3tVbR1qLgL6P"
      },
      "execution_count": 19,
      "outputs": []
    },
    {
      "cell_type": "markdown",
      "source": [
        "### Format CSV"
      ],
      "metadata": {
        "id": "sJnwWLTxuOlU"
      }
    },
    {
      "cell_type": "code",
      "source": [
        "df_wiki.to_csv(\"wiki_cli_csv.csv\", index=False)"
      ],
      "metadata": {
        "id": "dh01Ob9k6MPq"
      },
      "execution_count": 20,
      "outputs": []
    },
    {
      "cell_type": "markdown",
      "source": [
        "The schema for the Data Source can be generated from the CSV file or written from code. "
      ],
      "metadata": {
        "id": "uxEERiN0fn35"
      }
    },
    {
      "cell_type": "code",
      "source": [
        "# generate the file wiki_cli_csv.datasource\n",
        "!tb --token=$token datasource generate wiki_cli_csv.csv"
      ],
      "metadata": {
        "colab": {
          "base_uri": "https://localhost:8080/"
        },
        "id": "RNXw_7l6feCX",
        "outputId": "5666f560-2eb2-4aa1-9590-5ddd7d0a444a"
      },
      "execution_count": 21,
      "outputs": [
        {
          "output_type": "stream",
          "name": "stdout",
          "text": [
            "\u001b[92m** Generated wiki_cli_csv.datasource\n",
            "** => Create it on the server running: $ tb push wiki_cli_csv.datasource\n",
            "** => Append data using: $ tb datasource append wiki_cli_csv wiki_cli_csv.csv\n",
            "\u001b[0m\n"
          ]
        }
      ]
    },
    {
      "cell_type": "code",
      "source": [
        "# or write the file wiki_cli_csv.datasource with data types, sorting key etc.\n",
        "filename = 'wiki_cli_csv.datasource'\n",
        "text='''\n",
        "SCHEMA >\n",
        "    `meta` LowCardinality(String),\n",
        "    `id` Int64,\n",
        "    `type` String,\n",
        "    `namespace` Int16,\n",
        "    `title` String,\n",
        "    `comment` Nullable(String),\n",
        "    `timestamp` Int64,\n",
        "    `user` String,\n",
        "    `bot` String,\n",
        "    `minor` Nullable(String),\n",
        "    `patrolled` Nullable(String),\n",
        "    `server_url` LowCardinality(String),\n",
        "    `server_name` LowCardinality(String),\n",
        "    `server_script_path` String,\n",
        "    `wiki` LowCardinality(String),\n",
        "    `parsedcomment` Nullable(String)\n",
        "\n",
        "ENGINE \"MergeTree\"\n",
        "ENGINE_SORTING_KEY \"timestamp\"\n",
        "'''\n",
        "\n",
        "write_text_to_file(filename, text)"
      ],
      "metadata": {
        "id": "G_o8NDcNgYbt"
      },
      "execution_count": 22,
      "outputs": []
    },
    {
      "cell_type": "code",
      "source": [
        "!tb --token=$token push wiki_cli_csv.datasource\n",
        "!tb --token=$token datasource append wiki_cli_csv wiki_cli_csv.csv"
      ],
      "metadata": {
        "colab": {
          "base_uri": "https://localhost:8080/"
        },
        "id": "FciMn7FyrcSC",
        "outputId": "98162124-ab2e-4d5d-898c-17122e2f4e1e"
      },
      "execution_count": 23,
      "outputs": [
        {
          "output_type": "stream",
          "name": "stdout",
          "text": [
            "\u001b[0m** Processing wiki_cli_csv.datasource\u001b[0m\n",
            "\u001b[0m** Building dependencies\u001b[0m\n",
            "\u001b[0m** Running wiki_cli_csv \u001b[0m\n",
            "\u001b[92m** 'wiki_cli_csv' created\u001b[0m\n",
            "\u001b[0m** Not pushing fixtures\u001b[0m\n",
            "\u001b[0m** 🥚 starting import process\u001b[0m\n",
            "\u001b[92m** 🐥 done\u001b[0m\n",
            "\u001b[92m** Total rows in wiki_cli_csv: 7762\u001b[0m\n",
            "\u001b[92m** Data appended to Data Source 'wiki_cli_csv' successfully!\u001b[0m\n",
            "\u001b[0m** Data pushed to wiki_cli_csv\u001b[0m\n"
          ]
        }
      ]
    },
    {
      "cell_type": "markdown",
      "source": [
        "### Format NDJSON"
      ],
      "metadata": {
        "id": "8pYMGMzPuTqD"
      }
    },
    {
      "cell_type": "code",
      "source": [
        "df_wiki.to_json(\"wiki_cli_ndjson.ndjson\", orient=\"records\", lines=True, force_ascii=0)"
      ],
      "metadata": {
        "id": "foG1Jy-E6W1m"
      },
      "execution_count": 24,
      "outputs": []
    },
    {
      "cell_type": "markdown",
      "source": [
        "The schema for the Data Source can be generated from the NDJSON file or written from code. "
      ],
      "metadata": {
        "id": "C9tUMJHUikEH"
      }
    },
    {
      "cell_type": "code",
      "source": [
        "# generate the file wiki_cli_ndjson.datasource\n",
        "!tb --token=$token datasource generate wiki_cli_ndjson.ndjson"
      ],
      "metadata": {
        "colab": {
          "base_uri": "https://localhost:8080/"
        },
        "id": "-BazQJuPiiwT",
        "outputId": "55aa8f21-68a5-4fe2-a8ca-459888a80e88"
      },
      "execution_count": 25,
      "outputs": [
        {
          "output_type": "stream",
          "name": "stdout",
          "text": [
            "\u001b[92m** Generated wiki_cli_ndjson.datasource\n",
            "** => Create it on the server running: $ tb push wiki_cli_ndjson.datasource\n",
            "** => Append data using: $ tb datasource append wiki_cli_ndjson wiki_cli_ndjson.ndjson\n",
            "\u001b[0m\n"
          ]
        }
      ]
    },
    {
      "cell_type": "code",
      "source": [
        "# or write the file wiki_cli_ndjson.datasource with data types, sorting key etc.\n",
        "filename = 'wiki_cli_ndjson.datasource'\n",
        "text='''\n",
        "SCHEMA >\n",
        "\n",
        "    bot UInt8 `json:$.bot`,\n",
        "    comment Nullable(String) `json:$.comment`,\n",
        "    id Int64 `json:$.id`,\n",
        "    meta LowCardinality(String) `json:$.meta`,\n",
        "    minor Nullable(UInt8) `json:$.minor`,\n",
        "    namespace Int16 `json:$.namespace`,\n",
        "    parsedcomment Nullable(String) `json:$.parsedcomment`,\n",
        "    patrolled Nullable(UInt8) `json:$.patrolled`,\n",
        "    server_name String `json:$.server_name`,\n",
        "    server_script_path String `json:$.server_script_path`,\n",
        "    server_url String `json:$.server_url`,\n",
        "    timestamp Int64 `json:$.timestamp`,\n",
        "    title String `json:$.title`,\n",
        "    type String `json:$.type`,\n",
        "    user String `json:$.user`,\n",
        "    wiki LowCardinality(String) `json:$.wiki`\n",
        "    \n",
        "ENGINE \"MergeTree\"\n",
        "ENGINE_SORTING_KEY \"timestamp\"\n",
        "'''\n",
        "\n",
        "write_text_to_file(filename, text)"
      ],
      "metadata": {
        "id": "PfPqBeCErFO9"
      },
      "execution_count": 26,
      "outputs": []
    },
    {
      "cell_type": "code",
      "source": [
        "!tb --token=$token push wiki_cli_ndjson.datasource\n",
        "!tb --token=$token datasource append wiki_cli_ndjson wiki_cli_ndjson.ndjson"
      ],
      "metadata": {
        "colab": {
          "base_uri": "https://localhost:8080/"
        },
        "id": "19s5E7kQqgkp",
        "outputId": "ed6d03b4-def8-42c0-e682-1b7561106715"
      },
      "execution_count": 27,
      "outputs": [
        {
          "output_type": "stream",
          "name": "stdout",
          "text": [
            "\u001b[0m** Processing wiki_cli_ndjson.datasource\u001b[0m\n",
            "\u001b[0m** Building dependencies\u001b[0m\n",
            "\u001b[0m** Running wiki_cli_ndjson \u001b[0m\n",
            "\u001b[92m** 'wiki_cli_ndjson' created\u001b[0m\n",
            "\u001b[0m** Not pushing fixtures\u001b[0m\n",
            "\u001b[0m** 🥚 starting import process\u001b[0m\n",
            "\u001b[92m** 🐥 done\u001b[0m\n",
            "\u001b[92m** Appended 0 new rows\u001b[0m\n",
            "\u001b[92m** Total rows in wiki_cli_ndjson: 7762\u001b[0m\n",
            "\u001b[92m** Data appended to Data Source 'wiki_cli_ndjson' successfully!\u001b[0m\n",
            "\u001b[0m** Data pushed to wiki_cli_ndjson\u001b[0m\n"
          ]
        }
      ]
    },
    {
      "cell_type": "markdown",
      "source": [
        "## Option 4: Stream to Tinybird using High-Frequency Ingestion\n",
        "Here events are streamed directly to the Data Source from the Wikipedia stream using [high-frequency ingestion](https://guides.tinybird.co/guide/high-frequency-ingestion). The data is not first written to a pandas DataFrame.\n",
        "\n",
        "With `mode='create'` the data types are inferred. To avoid rows going into quarantine, a few more columns  need to be `Nullable` than inferred. Directly defining the schema after exploring the automatically created Data Source in the UI solves this issue. "
      ],
      "metadata": {
        "id": "HBbvTR32_G2P"
      }
    },
    {
      "cell_type": "code",
      "source": [
        "!pip install sseclient"
      ],
      "metadata": {
        "colab": {
          "base_uri": "https://localhost:8080/"
        },
        "id": "oCrRAdCpAihL",
        "outputId": "40eca3a7-2b23-4757-e975-51388fad9304"
      },
      "execution_count": 28,
      "outputs": [
        {
          "output_type": "stream",
          "name": "stdout",
          "text": [
            "Requirement already satisfied: sseclient in /usr/local/lib/python3.7/dist-packages (0.0.27)\n",
            "Requirement already satisfied: requests>=2.9 in /usr/local/lib/python3.7/dist-packages (from sseclient) (2.25.1)\n",
            "Requirement already satisfied: six in /usr/local/lib/python3.7/dist-packages (from sseclient) (1.15.0)\n",
            "Requirement already satisfied: urllib3<1.27,>=1.21.1 in /usr/local/lib/python3.7/dist-packages (from requests>=2.9->sseclient) (1.24.3)\n",
            "Requirement already satisfied: chardet<5,>=3.0.2 in /usr/local/lib/python3.7/dist-packages (from requests>=2.9->sseclient) (3.0.4)\n",
            "Requirement already satisfied: certifi>=2017.4.17 in /usr/local/lib/python3.7/dist-packages (from requests>=2.9->sseclient) (2021.10.8)\n",
            "Requirement already satisfied: idna<3,>=2.5 in /usr/local/lib/python3.7/dist-packages (from requests>=2.9->sseclient) (2.10)\n"
          ]
        }
      ]
    },
    {
      "cell_type": "code",
      "source": [
        "import json\n",
        "import requests\n",
        "import time\n",
        "\n",
        "from sseclient import SSEClient as EventSource"
      ],
      "metadata": {
        "id": "6CVE8-uA_7lw"
      },
      "execution_count": 29,
      "outputs": []
    },
    {
      "cell_type": "code",
      "source": [
        "if token == '':\n",
        "   print(\"Get your token from your Tinybird workspace.\")"
      ],
      "metadata": {
        "id": "G7RgTwQe_Mlx"
      },
      "execution_count": 30,
      "outputs": []
    },
    {
      "cell_type": "code",
      "source": [
        "def write_text_to_file(filename, text):\n",
        "  with open(filename, 'w') as f: f.write(text)"
      ],
      "metadata": {
        "id": "Fee5Ptt7JS6Q"
      },
      "execution_count": 31,
      "outputs": []
    },
    {
      "cell_type": "code",
      "source": [
        "filename = 'wiki_hfi.datasource'\n",
        "text='''\n",
        "SCHEMA >\n",
        "    `DOLLAR_SIGN_schema` String `json:$.['$schema']`,\n",
        "    `bot` UInt8 `json:$.bot`,\n",
        "    `comment` String `json:$.comment`,\n",
        "    `id` Int64 `json:$.id`,\n",
        "    `length_new` Nullable(Int32) `json:$.length.new`,\n",
        "    `length_old` Nullable(Int32) `json:$.length.old`,\n",
        "    `meta_domain` String `json:$.meta.domain`,\n",
        "    `meta_dt` DateTime `json:$.meta.dt`,\n",
        "    `meta_id` String `json:$.meta.id`,\n",
        "    `meta_offset` Int64 `json:$.meta.offset`,\n",
        "    `meta_partition` Int16 `json:$.meta.partition`,\n",
        "    `meta_request_id` String `json:$.meta.request_id`,\n",
        "    `meta_stream` String `json:$.meta.stream`,\n",
        "    `meta_topic` String `json:$.meta.topic`,\n",
        "    `meta_uri` String `json:$.meta.uri`,\n",
        "    `minor` Nullable(UInt8) `json:$.minor`,\n",
        "    `namespace` Int16 `json:$.namespace`,\n",
        "    `parsedcomment` String `json:$.parsedcomment`,\n",
        "    `patrolled` Nullable(UInt8) `json:$.patrolled`,\n",
        "    `revision_new` Nullable(Int64) `json:$.revision.new`,\n",
        "    `revision_old` Nullable(Int64) `json:$.revision.old`,\n",
        "    `server_name` String `json:$.server_name`,\n",
        "    `server_script_path` String `json:$.server_script_path`,\n",
        "    `server_url` String `json:$.server_url`,\n",
        "    `timestamp` Int64 `json:$.timestamp`,\n",
        "    `title` String `json:$.title`,\n",
        "    `type` String `json:$.type`,\n",
        "    `user` String `json:$.user`,\n",
        "    `wiki` String `json:$.wiki`\n",
        "\n",
        "ENGINE \"MergeTree\"\n",
        "ENGINE_SORTING_KEY \"timestamp\"\n",
        "'''\n",
        "\n",
        "write_text_to_file(filename, text)\n",
        "!tb --token=$token push wiki_hfi.datasource"
      ],
      "metadata": {
        "colab": {
          "base_uri": "https://localhost:8080/"
        },
        "id": "fdkBT0Q7B2x_",
        "outputId": "f8b7c181-9d1d-4568-e452-7e7c4f5f8f7b"
      },
      "execution_count": 32,
      "outputs": [
        {
          "output_type": "stream",
          "name": "stdout",
          "text": [
            "\u001b[0m** Processing wiki_hfi.datasource\u001b[0m\n",
            "\u001b[0m** Building dependencies\u001b[0m\n",
            "\u001b[0m** Running wiki_hfi \u001b[0m\n",
            "\u001b[92m** 'wiki_hfi' created\u001b[0m\n",
            "\u001b[0m** Not pushing fixtures\u001b[0m\n"
          ]
        }
      ]
    },
    {
      "cell_type": "code",
      "source": [
        "datasource = 'wiki_hfi'\n",
        "mode = 'append'\n",
        "url = 'https://api.tinybird.co/v0/events'\n",
        "n = 1 # minutes of data from stream (lapsed time is about 8X longer)"
      ],
      "metadata": {
        "id": "pRLEw-gpBD6D"
      },
      "execution_count": 33,
      "outputs": []
    },
    {
      "cell_type": "code",
      "source": [
        "params = {\n",
        "        'mode': mode,\n",
        "        'name': datasource,\n",
        "        'token': token\n",
        "        }\n",
        "t_end = time.time() + n*60\n",
        "change = {'timestamp': time.time()}\n",
        "for event in EventSource('https://stream.wikimedia.org/v2/stream/recentchange'):\n",
        "      if change['timestamp'] > t_end:\n",
        "        break\n",
        "      elif event.event == 'message':\n",
        "        try:\n",
        "              change = json.loads(event.data)\n",
        "        except ValueError:\n",
        "              pass\n",
        "        else:\n",
        "            if change['type']!='log':\n",
        "              r = requests.post(url, \n",
        "                                params=params, \n",
        "                                data=json.dumps(change))"
      ],
      "metadata": {
        "id": "KgUPnj98Aa_s"
      },
      "execution_count": 34,
      "outputs": []
    }
  ]
}